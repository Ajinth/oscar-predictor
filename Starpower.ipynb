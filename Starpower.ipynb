{
 "cells": [
  {
   "cell_type": "code",
   "execution_count": 1,
   "metadata": {
    "collapsed": true
   },
   "outputs": [],
   "source": [
    "from imdb import IMDb\n",
    "import math\n",
    "ia = IMDb('http')"
   ]
  },
  {
   "cell_type": "code",
   "execution_count": null,
   "metadata": {
    "collapsed": true
   },
   "outputs": [],
   "source": [
    "def movie_star_array(mp):\n",
    "    movie_dict = {}\n",
    "    for i in mp:\n",
    "        cast_list = i['cast'] # Retrieving the cast list for a movie\n",
    "        x = starpower(cast_list, i['year']) # Calling the starpower function on a list of actors at a given time\n",
    "        mp['StarPower'] = x[0] # Returns list of actors for the given movie, along with \n",
    "        # associated star power in that year/time of movie\n",
    "        mp['TotalStarPower'] = x[1] #returns the 'total' star power for a given movie, considered an aggregate of the\n",
    "        #individual actors"
   ]
  },
  {
   "cell_type": "code",
   "execution_count": 8,
   "metadata": {
    "collapsed": false
   },
   "outputs": [
    {
     "data": {
      "text/plain": [
       "[u'soundtrack tv',\n",
       " u'producer tv',\n",
       " u'thanks documentary',\n",
       " 'in development',\n",
       " 'mini biography',\n",
       " 'actress',\n",
       " 'height',\n",
       " 'birth notes',\n",
       " u'producer movie',\n",
       " 'headshot',\n",
       " u'director tv',\n",
       " u'director movie',\n",
       " 'imdbIndex',\n",
       " 'name',\n",
       " 'self',\n",
       " u'director short',\n",
       " u'archive footage',\n",
       " u'art department short',\n",
       " u'soundtrack movie',\n",
       " u'thanks movie',\n",
       " 'birth name',\n",
       " u'thanks video',\n",
       " 'birth date']"
      ]
     },
     "execution_count": 8,
     "metadata": {},
     "output_type": "execute_result"
    }
   ],
   "source": [
    "#m = ia.get_movie('0151738')\n",
    "#m.data['cast']\n",
    "p = ia.get_person('0000106')\n",
    "p.data.keys()"
   ]
  },
  {
   "cell_type": "code",
   "execution_count": null,
   "metadata": {
    "collapsed": true
   },
   "outputs": [],
   "source": [
    "def starpower(movie_cast, year):\n",
    "    movie_cast\n",
    "    cast_rating={}\n",
    "    totalpower=0\n",
    "    for actorperson in movie_cast:\n",
    "        print actorperson\n",
    "        ia.update(actorperson, 'filmography')\n",
    "        if 'actor' in actorperson.keys():\n",
    "            temp_movie_list = actorperson['actor'] # The filmography of a given actor\n",
    "        elif 'actress' in actorperson.keys():\n",
    "            print \"in the actress\"\n",
    "            temp_movie_list = actorperson['actress']\n",
    "        else:\n",
    "            temp_movie_list=[]\n",
    "        count=0 # counts the number of movies they have been in thus far\n",
    "        sum=0 # Sums the gross of the movies they have been in thus far\n",
    "        avg_rating = 0 #holds the net total of ratings for the movies that an actor has been in thus far\n",
    "        total_votes = 0 # Holds the IMDb votes for the movies, a proxy for movie popularity\n",
    "        for j in temp_movie_list:\n",
    "            ia.update(j, 'vote details')\n",
    "            if 'rating' in j.keys():\n",
    "                #print j\n",
    "                if ((j.data['year'] <=year)):\n",
    "                    count +=1\n",
    "                    #sum += j['gross'] # Only used if we end up getting gross movien sales for all movies\n",
    "                    avg_rating +=j.data['rating'] # adding up the movie ratings, \n",
    "                    total_votes +=(j.data['votes']*(1/(year-j.data['year']+1)))\n",
    "        final_power = rating_calculator(count, avg_rating, total_votes)\n",
    "        cast_rating[actorperson] = final_power #add in gross if it exists\n",
    "        totalpower += final_power\n",
    "        print cast_rating, totalpower\n",
    "\n",
    "    return(cast_rating, totalpower)\n",
    "                "
   ]
  },
  {
   "cell_type": "code",
   "execution_count": null,
   "metadata": {
    "collapsed": true
   },
   "outputs": [],
   "source": [
    "def rating_calculator(count, avg_rating, total_votes):\n",
    "    if (count!=0) & (avg_rating!=0) & (total_votes!=0):\n",
    "        return(math.log(count) + (avg_rating/count)*0.3 + total_votes*0.000001)\n",
    "    else:\n",
    "        return(0)"
   ]
  },
  {
   "cell_type": "code",
   "execution_count": null,
   "metadata": {
    "collapsed": true
   },
   "outputs": [],
   "source": [
    "test1 = ia.search_movie('Titanic')[0]\n",
    "ia.update(test1)\n",
    "test1.keys()"
   ]
  },
  {
   "cell_type": "code",
   "execution_count": null,
   "metadata": {
    "collapsed": true
   },
   "outputs": [],
   "source": [
    "starpower(test1['cast'], test1['year'])"
   ]
  }
 ],
 "metadata": {
  "kernelspec": {
   "display_name": "Python 2",
   "language": "python",
   "name": "python2"
  },
  "language_info": {
   "codemirror_mode": {
    "name": "ipython",
    "version": 2
   },
   "file_extension": ".py",
   "mimetype": "text/x-python",
   "name": "python",
   "nbconvert_exporter": "python",
   "pygments_lexer": "ipython2",
   "version": "2.7.10"
  }
 },
 "nbformat": 4,
 "nbformat_minor": 0
}
