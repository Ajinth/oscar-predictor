{
 "cells": [
  {
   "cell_type": "code",
   "execution_count": 35,
   "metadata": {
    "collapsed": true
   },
   "outputs": [],
   "source": [
    "from imdb import IMDb\n",
    "import math\n",
    "ia = IMDb('http')"
   ]
  },
  {
   "cell_type": "code",
   "execution_count": 34,
   "metadata": {
    "collapsed": true
   },
   "outputs": [],
   "source": [
    "def movie_star_array(mp):\n",
    "    movie_dict = {}\n",
    "    for i in mp:\n",
    "        cast_list = i['cast'] # Retrieving the cast list for a movie\n",
    "        x = starpower(cast_list, i['year']) # Calling the starpower function on a list of actors at a given time\n",
    "        mp['StarPower'] = x[0] # Returns list of actors for the given movie, along with \n",
    "        # associated star power in that year/time of movie\n",
    "        mp['TotalStarPower'] = x[1] #returns the 'total' star power for a given movie, considered an aggregate of the\n",
    "        #individual actors"
   ]
  },
  {
   "cell_type": "code",
   "execution_count": 70,
   "metadata": {
    "collapsed": false
   },
   "outputs": [],
   "source": [
    "import heapq\n",
    "def starpower(movie_cast, year):\n",
    "    movie_cast\n",
    "    cast_rating={}\n",
    "    netpower=0\n",
    "    print len(movie_cast)\n",
    "    for actorperson in movie_cast:\n",
    "        print actorperson\n",
    "        ia.update(actorperson, 'filmography')\n",
    "        if 'actor' in actorperson.keys():\n",
    "            temp_movie_list = actorperson['actor'] # The filmography of a given actor\n",
    "        elif 'actress' in actorperson.keys():\n",
    "            temp_movie_list = actorperson['actress']\n",
    "        else:\n",
    "            temp_movie_list=[]\n",
    "        if len(temp_movie_list)<20:\n",
    "            continue # if the given actor does not have at least 15 movies, skip over them\n",
    "            \n",
    "        count=0 # counts the number of movies they have been in thus far\n",
    "        sumtot=0 # Sums the gross of the movies they have been in thus far\n",
    "        avg_rating = 0 #holds the net total of ratings for the movies that an actor has been in thus far\n",
    "        total_votes = 0 # Holds the IMDb votes for the movies, a proxy for movie popularity\n",
    "        for j in temp_movie_list:\n",
    "            if j.data['kind']=='episode':\n",
    "                continue\n",
    "            try:\n",
    "                if ((year-j.data['year'])>=5) or (year<j.data['year']):\n",
    "                    continue\n",
    "                ia.update(j, 'vote details')\n",
    "                if 'rating' in j.keys():\n",
    "                    #print j\n",
    "                    if ((j.data['year'] <=year)):\n",
    "                        count +=1\n",
    "                        #sum += j['gross'] # Only used if we end up getting gross movien sales for all movies\n",
    "                        avg_rating +=j.data['rating'] # adding up the movie ratings, \n",
    "                        total_votes +=(j.data['votes']*(1/(year-j.data['year']+1)))\n",
    "            except:\n",
    "                continue\n",
    "                \n",
    "        final_power = rating_calculator(count, avg_rating, total_votes)\n",
    "        cast_rating[actorperson] = final_power #add in gross if it exists\n",
    "    n = len(cast_rating.keys())\n",
    "    if n>5:\n",
    "        netpower = sum(heapq.nlargest(5, cast_rating.values()))/5\n",
    "    else:\n",
    "        netpower = sum(cast_rating.values())/n\n",
    "    print netpower\n",
    "\n",
    "    return(netpower)\n",
    "                "
   ]
  },
  {
   "cell_type": "code",
   "execution_count": 33,
   "metadata": {
    "collapsed": true
   },
   "outputs": [],
   "source": [
    "def rating_calculator(count, avg_rating, total_votes):\n",
    "    if (count!=0) & (avg_rating!=0) & (total_votes!=0):\n",
    "        return(math.log(count) + (avg_rating/count)*0.3 + total_votes*0.000001)\n",
    "    else:\n",
    "        return(0)"
   ]
  },
  {
   "cell_type": "code",
   "execution_count": 36,
   "metadata": {
    "collapsed": false
   },
   "outputs": [
    {
     "data": {
      "text/plain": [
       "[u'music department',\n",
       " 'sound crew',\n",
       " 'camera and electrical department',\n",
       " u'distributors',\n",
       " 'rating',\n",
       " 'runtimes',\n",
       " 'costume designer',\n",
       " u'thanks',\n",
       " 'make up',\n",
       " 'year',\n",
       " 'production design',\n",
       " 'miscellaneous crew',\n",
       " 'color info',\n",
       " u'casting department',\n",
       " 'languages',\n",
       " 'votes',\n",
       " 'producer',\n",
       " 'title',\n",
       " 'mpaa',\n",
       " 'assistant director',\n",
       " 'writer',\n",
       " 'casting director',\n",
       " 'visual effects',\n",
       " 'production manager',\n",
       " 'set decoration',\n",
       " 'editor',\n",
       " 'certificates',\n",
       " u'costume department',\n",
       " 'country codes',\n",
       " 'language codes',\n",
       " 'cover url',\n",
       " u'special effects department',\n",
       " 'special effects companies',\n",
       " 'sound mix',\n",
       " 'genres',\n",
       " u'production companies',\n",
       " 'stunt performer',\n",
       " 'miscellaneous companies',\n",
       " 'cinematographer',\n",
       " 'art direction',\n",
       " 'akas',\n",
       " 'aspect ratio',\n",
       " 'director',\n",
       " 'kind',\n",
       " u'art department',\n",
       " 'countries',\n",
       " u'transportation department',\n",
       " 'plot outline',\n",
       " 'plot',\n",
       " 'cast',\n",
       " u'animation department',\n",
       " 'original music',\n",
       " u'editorial department',\n",
       " 'canonical title',\n",
       " 'long imdb title',\n",
       " 'long imdb canonical title',\n",
       " 'smart canonical title',\n",
       " 'smart long imdb canonical title',\n",
       " 'full-size cover url']"
      ]
     },
     "execution_count": 36,
     "metadata": {},
     "output_type": "execute_result"
    }
   ],
   "source": [
    "test1 = ia.search_movie('Titanic')[0]\n",
    "ia.update(test1)\n",
    "test1.keys()"
   ]
  },
  {
   "cell_type": "code",
   "execution_count": 71,
   "metadata": {
    "collapsed": false
   },
   "outputs": [
    {
     "name": "stdout",
     "output_type": "stream",
     "text": [
      "145\n",
      "Leonardo DiCaprio\n",
      "Kate Winslet\n",
      "Billy Zane\n",
      "Kathy Bates\n",
      "Frances Fisher\n",
      "Gloria Stuart\n",
      "Bill Paxton\n",
      "Bernard Hill\n",
      "David Warner\n",
      "Victor Garber\n",
      "Jonathan Hyde\n",
      "Suzy Amis\n",
      "Lewis Abernathy\n",
      "Nicholas Cascone\n",
      "Anatoly M. Sagalevitch\n",
      "Danny Nucci\n",
      "Jason Barry\n",
      "Ewan Stewart\n",
      "Ioan Gruffudd\n",
      "Jonny Phillips\n",
      "Mark Lindsay Chapman\n",
      "Richard Graham\n",
      "Paul Brightwell\n",
      "Ron Donachie\n",
      "Eric Braeden\n",
      "Charlotte Chatton\n",
      "Bernard Fox\n",
      "Michael Ensign\n",
      "Fannie Brett\n",
      "Jenette Goldstein\n",
      "Camilla Overbye Roos\n",
      "Linda Kerns\n",
      "Amy Gaipa\n",
      "Martin Jarvis\n",
      "Rosalind Ayres\n",
      "Rochelle Rose\n",
      "Jonathan Evans-Jones\n",
      "Brian Walsh\n",
      "Rocky Taylor\n",
      "Alexandrea Owens\n",
      "Simon Crane\n",
      "Edward Fletcher\n",
      "Scott Anderson\n",
      "Martin East\n",
      "Craig Kelly\n",
      "Gregory Cooke\n",
      "Liam Tuohy\n",
      "James Lancaster\n",
      "Elsa Raven\n",
      "Lew Palter\n",
      "Reece P. Thompson III\n",
      "Laramie Landis\n",
      "Amber Waddell\n",
      "Alison Waddell\n",
      "Mark Rafael Truitt\n",
      "John Walcutt\n",
      "Terry Forrestal\n",
      "Derek Lea\n",
      "Richard Ashton\n",
      "Sean Nepita\n",
      "Brendan Connolly\n",
      "David Cronnelly\n",
      "Garth Wilton\n",
      "Martin Laing\n",
      "Richard Fox\n",
      "Nick Meaney\n",
      "Kevin Owers\n",
      "Mark Capri\n",
      "Marc Cass\n",
      "Paul Herbert\n",
      "Emmett James\n",
      "Chris Byrne\n",
      "Oliver Page\n",
      "James Garrett\n",
      "Erik Holland\n",
      "Jari Kinnunen\n",
      "Anders Falk\n",
      "Martin Hub\n",
      "Seth Adkins\n",
      "Barry Dennen\n",
      "Vern Urich\n",
      "Rebecca Klingler\n",
      "Tricia O'Neil\n",
      "Kathleen S. Dunn\n",
      "Romeo Francis\n",
      "Mandana Marino\n",
      "Van Ling\n",
      "Bjørn Olsen\n",
      "Dan Pettersson\n",
      "Shay Duffin\n",
      "Jonny Rees\n",
      "Diana Morgan\n",
      "Lorenz Hasler\n",
      "Thomas Füri\n",
      "Ferenc Szedlák\n",
      "Béla Szedlák\n",
      "Werner Giger\n",
      "Patrick Murphy\n",
      "Stephen Wehmeyer\n",
      "Stephen Twigger\n",
      "Shep Lonsdale\n",
      "Samantha Hunt\n",
      "Kris Andersson\n",
      "Bobbie Bates\n",
      "Aaron James Cash\n",
      "Anne Fletcher\n",
      "Edmond Alan Forsyth\n",
      "Andie Hicks\n",
      "Scott Hislop\n",
      "Stan Mazin\n",
      "Lisa Ratzin\n",
      "Julene Renee\n",
      "Brian Baines\n",
      "Alexandra Boyd\n",
      "Mike Butters\n",
      "James Cameron\n",
      "Bruno Campolo\n",
      "Chris Cragnotti\n",
      "Kevyn Currie\n",
      "Tasha Dabek\n",
      "Kevin De La Noy\n",
      "Thomas Fiss\n",
      "Griffin Howell\n",
      "Sean Howse\n",
      "Rudy Joffroy\n",
      "Tony Kenny\n",
      "Sean Lawlor\n",
      "John Leonhardt\n",
      "Miguel A. Lomelin\n",
      "Don Lynch\n",
      "Johnny Martin\n",
      "Meghan McLeod\n",
      "Mike O'Neal\n",
      "Julian Oros\n",
      "Barbarella Pardo\n",
      "Phil Parlapiano\n",
      "Judy Prestininzi\n",
      "Steven Quale\n",
      "Olivia Rosewood\n",
      "John Slade\n",
      "Stephen Wolfe Smith\n",
      "R. Gern Trowbridge\n",
      "Miguel Angel Varela Fimbres\n",
      "Francisco Váldez\n",
      "Lucie Zolcerova\n",
      "0\n",
      "6.02137816006\n"
     ]
    },
    {
     "data": {
      "text/plain": [
       "6.021378160061095"
      ]
     },
     "execution_count": 71,
     "metadata": {},
     "output_type": "execute_result"
    }
   ],
   "source": [
    "starpower(test1['cast'], test1['year'])"
   ]
  },
  {
   "cell_type": "code",
   "execution_count": 1,
   "metadata": {
    "collapsed": true
   },
   "outputs": [],
   "source": [
    "temp1 = {'L':5, 'L2': 5.5, 'L3':5.8, 'L4':6.0, 'L5': 6.5, 'L6': 7}"
   ]
  },
  {
   "cell_type": "code",
   "execution_count": 31,
   "metadata": {
    "collapsed": false
   },
   "outputs": [
    {
     "data": {
      "text/plain": [
       "6"
      ]
     },
     "execution_count": 31,
     "metadata": {},
     "output_type": "execute_result"
    }
   ],
   "source": [
    "import math\n",
    "len(temp1.keys())"
   ]
  },
  {
   "cell_type": "code",
   "execution_count": 69,
   "metadata": {
    "collapsed": false
   },
   "outputs": [
    {
     "data": {
      "text/plain": [
       "13.5"
      ]
     },
     "execution_count": 69,
     "metadata": {},
     "output_type": "execute_result"
    }
   ],
   "source": [
    "import numpy as np\n",
    "import heapq\n",
    "sum(heapq.nlargest(2, temp1.values()))\n"
   ]
  },
  {
   "cell_type": "code",
   "execution_count": 19,
   "metadata": {
    "collapsed": false
   },
   "outputs": [],
   "source": [
    "arr = np.array(temp1.values())"
   ]
  },
  {
   "cell_type": "code",
   "execution_count": 13,
   "metadata": {
    "collapsed": false
   },
   "outputs": [
    {
     "ename": "AttributeError",
     "evalue": "'numpy.float64' object has no attribute 'index'",
     "output_type": "error",
     "traceback": [
      "\u001b[0;31m---------------------------------------------------------------------------\u001b[0m",
      "\u001b[0;31mAttributeError\u001b[0m                            Traceback (most recent call last)",
      "\u001b[0;32m<ipython-input-13-2e5bcd7cb200>\u001b[0m in \u001b[0;36m<module>\u001b[0;34m()\u001b[0m\n\u001b[0;32m----> 1\u001b[0;31m \u001b[0marr1\u001b[0m\u001b[0;34m.\u001b[0m\u001b[0mmax\u001b[0m\u001b[0;34m(\u001b[0m\u001b[0;34m)\u001b[0m\u001b[0;34m.\u001b[0m\u001b[0mindex\u001b[0m\u001b[0;34m\u001b[0m\u001b[0m\n\u001b[0m",
      "\u001b[0;31mAttributeError\u001b[0m: 'numpy.float64' object has no attribute 'index'"
     ]
    }
   ],
   "source": [
    "arr1.max().index"
   ]
  },
  {
   "cell_type": "code",
   "execution_count": 74,
   "metadata": {
    "collapsed": false
   },
   "outputs": [],
   "source": [
    "jtemp = ia.get_movie('0369610 ')"
   ]
  },
  {
   "cell_type": "code",
   "execution_count": 76,
   "metadata": {
    "collapsed": false
   },
   "outputs": [],
   "source": [
    "ia.update(jtemp)"
   ]
  },
  {
   "cell_type": "code",
   "execution_count": 80,
   "metadata": {
    "collapsed": false
   },
   "outputs": [
    {
     "name": "stdout",
     "output_type": "stream",
     "text": [
      "200\n",
      "Chris Pratt\n",
      "Bryce Dallas Howard\n",
      "Irrfan Khan\n",
      "Vincent D'Onofrio\n",
      "Ty Simpkins\n",
      "Nick Robinson\n",
      "Jake Johnson\n",
      "Omar Sy\n",
      "BD Wong\n",
      "Judy Greer\n",
      "Lauren Lapkus\n",
      "Brian Tee\n",
      "Katie McGrath\n",
      "Andy Buckley\n",
      "Eric Edelstein\n",
      "Courtney James Clark\n",
      "Colby Boothman\n",
      "Jimmy Fallon\n",
      "James DuMont\n",
      "Matt Burke\n",
      "Anna Talakkottur\n",
      "Matty Cardarople\n",
      "Michael Papajohn\n",
      "William Gary Smith\n",
      "Kelly Washington\n",
      "Isaac Keys\n",
      "Patrick Crowley\n",
      "Chad Randall\n",
      "Gary Weeks\n",
      "Bill Ogilvie\n",
      "Allan Tam\n",
      "Yvonne Angulo\n",
      "Chloe Perrin\n",
      "Timothy Eulich\n",
      "Kevin Foster\n",
      "Bonnie Wild\n",
      "Brad Bird\n",
      "Colin Trevorrow\n",
      "Rachel Acuna\n",
      "Jerome Andries\n",
      "Michael D. Anglin\n",
      "Sue-Lynn Ansari\n",
      "John L. Armijo\n",
      "Attila\n",
      "Fileena Bahris\n",
      "Nazeema Bartek\n",
      "John R. Bennett II\n",
      "Lukas Bennett\n",
      "Hayley Blackall\n",
      "Matthew Blackmon\n",
      "Chase McCleery Bouchie\n",
      "Meredith Brumwell\n",
      "Jimmy Buffett\n",
      "Tom Bui\n",
      "Kina Dach'e Bullock\n",
      "Kyla Burke\n",
      "Svitlana Campbell\n",
      "Hélène Cardona\n",
      "Ron Centanni\n",
      "Arinitra Chandler\n",
      "Heather Ashley Chase\n",
      "Rebecca Chulew\n",
      "John C. Coffman\n",
      "Judyth Daley\n",
      "Cody Daniel\n",
      "Nick De Semlyen\n",
      "Christopher De Stefano\n",
      "Emmanuel Dejesus\n",
      "Edward J. Delmore III\n",
      "Robert 'Bigg Sarge' Deon\n",
      "Michelle DeVito\n",
      "M. Elizabeth Dickerson\n",
      "Steven I. Dillard\n",
      "Divine Prince Ty Emmecca\n",
      "Erika Erica\n",
      "Justin Evangelista\n",
      "Gina Evangelisti\n",
      "Hailey Farah\n",
      "Anthony Feliciano\n",
      "Eddie J. Fernandez\n",
      "Osvaldo Fernandez\n",
      "Joseph Fischer\n",
      "Tait Fletcher\n",
      "Tiffany Forest\n",
      "Rob Fuller\n",
      "Doug Gagnon\n",
      "Kyle Gahagan\n",
      "John Garcia\n",
      "Robb Gardner\n",
      "Tahseen Ghauri\n",
      "Jacobi Glaude\n",
      "Geraldine Glenn\n",
      "Lymari Graciano\n",
      "Channing Guidry\n",
      "Donna Guidry\n",
      "Josh Gunderson\n",
      "Beverly Hanley\n",
      "Jimi Harper\n",
      "Elton Hartzler\n",
      "Brooke Hartzog\n",
      "Kasey Hartzog\n",
      "Shannon Hemmings\n",
      "Christopher Heskey\n",
      "Brandon Marc Higa\n",
      "Jamon Holmes\n",
      "Abraham Hao Hsu\n",
      "Bomber Hurley-Smith\n",
      "John Huser\n",
      "Lizeth Hutchings\n",
      "Tamika Shanell Johnson\n",
      "Wendy Clarice Jordan\n",
      "Olga Kalashnikova\n",
      "Brent Kappel\n",
      "Patrick Kearns\n",
      "Slim Khezri\n",
      "Floyd Knight\n",
      "Ken Knight\n",
      "Inder Kumar\n",
      "Christian LaBella\n",
      "Justin Lacalamita\n",
      "Douglas Lacey\n",
      "Rhonda Laizer\n",
      "Joy Kate Lawson\n",
      "Cynthia LeBlanc\n",
      "Elton LeBlanc\n",
      "Justin Lebrun\n",
      "Paul S.W. Lee\n",
      "Michael A. Lilly\n",
      "Jesse Lunsford\n",
      "Emily Lyman\n",
      "Rebecca Maltby\n",
      "John R Mangus\n",
      "Tracy B. Mann\n",
      "Susan Mathewson\n",
      "Ryan McCraw\n",
      "Mike McCutchen\n",
      "LJ McDonald\n",
      "Chris McFarland\n",
      "Claire McReynolds\n",
      "Jeff Moffitt\n",
      "Silvia Moore\n",
      "Mike R. Moreau\n",
      "Duane Moseley\n",
      "Moses Munoz\n",
      "Steven M. Murdzia\n",
      "Serenity Neil\n",
      "Arlene Newman-Van Asperen\n",
      "Ingrid Norvell\n",
      "Keith Nussbaum\n",
      "Jay Oliver\n",
      "Johnny Otto\n",
      "Jerald M.S. Pang\n",
      "Darla Perez\n",
      "Austin Perry\n",
      "Craig Prengler\n",
      "Tami Prengler\n",
      "Zach Prengler\n",
      "Joshua Probus\n",
      "Madison Probus\n",
      "Zachary Probus\n",
      "Alan D. Purwin\n",
      "Philippe Radelet\n",
      "Anthony Ramsey\n",
      "Dmitri Raskes\n",
      "Megan Rebelo\n",
      "Jacob Revere\n",
      "Emilio Reynoso\n",
      "Brandon Richardson\n",
      "Neil Riddaway\n",
      "Michael Ridley\n",
      "Sandy Ritz\n",
      "Jake Uriah Rupp\n",
      "Dalton Russell\n",
      "LaQuita S-Kay\n",
      "Anthony J Sacco\n",
      "Plynlymmon Sanguis\n",
      "Diane Selken\n",
      "David James Sikkink\n",
      "Kerry Sims\n",
      "Mona Sishodia\n",
      "Billy Smith\n",
      "James Michael Smith\n",
      "Lisa Ann Smith\n",
      "Michael Bennett Smith\n",
      "Scot Smith\n",
      "Chris Sprister\n",
      "David Stickler\n",
      "Seannon Stracener\n",
      "Erik Thirsk\n",
      "Nathan Tremaine\n",
      "Bob Walker\n",
      "Jency Allison Weeks\n",
      "Douglas Wilcox II\n",
      "Boriana Williams\n",
      "Sam Wirch\n",
      "Stephen Wise\n",
      "Jennifer Rikert Wolski\n",
      "Benjamin Wood\n",
      "Brady Yarborough\n",
      "Jesse Yarborough\n",
      "0\n",
      "6.79581519661\n",
      "CPU times: user 37.2 s, sys: 10.8 s, total: 48 s\n",
      "Wall time: 15min 50s\n"
     ]
    }
   ],
   "source": [
    "%%time\n",
    "jworld2015 = starpower(jtemp.data['cast'], jtemp.data['year'])"
   ]
  },
  {
   "cell_type": "code",
   "execution_count": null,
   "metadata": {
    "collapsed": true
   },
   "outputs": [],
   "source": []
  }
 ],
 "metadata": {
  "kernelspec": {
   "display_name": "Python 2",
   "language": "python",
   "name": "python2"
  },
  "language_info": {
   "codemirror_mode": {
    "name": "ipython",
    "version": 2
   },
   "file_extension": ".py",
   "mimetype": "text/x-python",
   "name": "python",
   "nbconvert_exporter": "python",
   "pygments_lexer": "ipython2",
   "version": "2.7.10"
  }
 },
 "nbformat": 4,
 "nbformat_minor": 0
}
