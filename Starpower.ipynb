{
 "cells": [
  {
   "cell_type": "code",
   "execution_count": 1,
   "metadata": {
    "collapsed": true
   },
   "outputs": [],
   "source": [
    "from imdb import IMDb\n",
    "import math\n",
    "ia = IMDb('http')"
   ]
  },
  {
   "cell_type": "code",
   "execution_count": 2,
   "metadata": {
    "collapsed": true
   },
   "outputs": [],
   "source": [
    "def movie_star_array(mp):\n",
    "    movie_dict = {}\n",
    "    for i in mp:\n",
    "        cast_list = i['cast'] # Retrieving the cast list for a movie\n",
    "        x = starpower(cast_list, i['year']) # Calling the starpower function on a list of actors at a given time\n",
    "        mp['StarPower'] = x[0] # Returns list of actors for the given movie, along with \n",
    "        # associated star power in that year/time of movie\n",
    "        mp['TotalStarPower'] = x[1] #returns the 'total' star power for a given movie, considered an aggregate of the\n",
    "        #individual actors"
   ]
  },
  {
   "cell_type": "code",
   "execution_count": 5,
   "metadata": {
    "collapsed": true
   },
   "outputs": [],
   "source": [
    "import heapq\n",
    "import math\n",
    "def starpower(movie_cast, year):\n",
    "    movie_cast\n",
    "    cast_rating={}\n",
    "    netpower=0\n",
    "    for actorperson in movie_cast:\n",
    "        print actorperson\n",
    "        ia.update(actorperson, 'filmography')\n",
    "        if 'actor' in actorperson.keys():\n",
    "            temp_movie_list = actorperson['actor'] # The filmography of a given actor\n",
    "        elif 'actress' in actorperson.keys():\n",
    "            print \"in the actress\"\n",
    "            temp_movie_list = actorperson['actress']\n",
    "        else:\n",
    "            temp_movie_list=[]\n",
    "        if (len(temp_movie_list)<20):\n",
    "            continue\n",
    "        count=0 # counts the number of movies they have been in thus far\n",
    "        sumtot=0 # Sums the gross of the movies they have been in thus far\n",
    "        avg_rating = 0 #holds the net total of ratings for the movies that an actor has been in thus far\n",
    "        total_votes = 0 # Holds the IMDb votes for the movies, a proxy for movie popularity\n",
    "        for j in temp_movie_list:\n",
    "            if ((year-j.data['year']>5) or (j.data['year']>year)):\n",
    "                continue\n",
    "            ia.update(j, 'vote details')\n",
    "            if 'rating' in j.keys():\n",
    "                #print j\n",
    "                if ((j.data['year'] <=year)):\n",
    "                    count +=1\n",
    "                    #sum += j['gross'] # Only used if we end up getting gross movien sales for all movies\n",
    "                    avg_rating +=j.data['rating'] # adding up the movie ratings, \n",
    "                    total_votes +=(j.data['votes']*(1/(year-j.data['year']+1)))\n",
    "        final_power = rating_calculator(count, avg_rating, total_votes)\n",
    "        cast_rating[actorperson] = final_power #add in gross if it exists\n",
    "        n = len(cast_rating.keys())\n",
    "        if n>5:\n",
    "            netpower = sum(heapq.nlargest(5,cast_rating.values()))/5\n",
    "        else:\n",
    "            netpower = sum(cast_rating.values())/n\n",
    "        \n",
    "        print netpower\n",
    "\n",
    "    return(netpower)\n",
    "                "
   ]
  },
  {
   "cell_type": "code",
   "execution_count": 6,
   "metadata": {
    "collapsed": true
   },
   "outputs": [],
   "source": [
    "def rating_calculator(count, avg_rating, total_votes):\n",
    "    if (count!=0) & (avg_rating!=0) & (total_votes!=0):\n",
    "        return(math.log(count) + (avg_rating/count)*0.3 + total_votes*0.000001)\n",
    "    else:\n",
    "        return(0)"
   ]
  },
  {
   "cell_type": "code",
   "execution_count": 16,
   "metadata": {
    "collapsed": false
   },
   "outputs": [
    {
     "data": {
      "text/plain": [
       "[u'music department',\n",
       " u'distributors',\n",
       " 'rating',\n",
       " 'runtimes',\n",
       " u'thanks',\n",
       " 'year',\n",
       " 'miscellaneous crew',\n",
       " 'color info',\n",
       " 'languages',\n",
       " 'votes',\n",
       " 'producer',\n",
       " 'title',\n",
       " 'writer',\n",
       " 'casting director',\n",
       " 'visual effects',\n",
       " 'production manager',\n",
       " 'set decoration',\n",
       " 'editor',\n",
       " 'certificates',\n",
       " 'sound crew',\n",
       " 'country codes',\n",
       " 'language codes',\n",
       " 'cover url',\n",
       " u'casting department',\n",
       " u'editorial department',\n",
       " 'sound mix',\n",
       " 'genres',\n",
       " 'director',\n",
       " 'miscellaneous companies',\n",
       " 'cinematographer',\n",
       " 'akas',\n",
       " 'aspect ratio',\n",
       " u'production companies',\n",
       " 'kind',\n",
       " u'art department',\n",
       " 'countries',\n",
       " 'plot outline',\n",
       " 'plot',\n",
       " 'cast',\n",
       " u'animation department',\n",
       " 'original music',\n",
       " 'canonical title',\n",
       " 'long imdb title',\n",
       " 'long imdb canonical title',\n",
       " 'smart canonical title',\n",
       " 'smart long imdb canonical title',\n",
       " 'full-size cover url']"
      ]
     },
     "execution_count": 16,
     "metadata": {},
     "output_type": "execute_result"
    }
   ],
   "source": [
    "test1 = ia.search_movie('Rio 2')[0]\n",
    "ia.update(test1)\n",
    "test1.keys()"
   ]
  },
  {
   "cell_type": "code",
   "execution_count": 21,
   "metadata": {
    "collapsed": false
   },
   "outputs": [
    {
     "data": {
      "text/plain": [
       "(72, ['name', 'canonical name', 'long imdb name', 'long imdb canonical name'])"
      ]
     },
     "execution_count": 21,
     "metadata": {},
     "output_type": "execute_result"
    }
   ],
   "source": [
    "len(test1.data['cast']), test1.data['cast'][7].keys()"
   ]
  },
  {
   "cell_type": "code",
   "execution_count": null,
   "metadata": {
    "collapsed": true
   },
   "outputs": [],
   "source": []
  }
 ],
 "metadata": {
  "kernelspec": {
   "display_name": "Python 2",
   "language": "python",
   "name": "python2"
  },
  "language_info": {
   "codemirror_mode": {
    "name": "ipython",
    "version": 2
   },
   "file_extension": ".py",
   "mimetype": "text/x-python",
   "name": "python",
   "nbconvert_exporter": "python",
   "pygments_lexer": "ipython2",
   "version": "2.7.10"
  }
 },
 "nbformat": 4,
 "nbformat_minor": 0
}
