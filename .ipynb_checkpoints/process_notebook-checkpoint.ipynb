{
 "cells": [
  {
   "cell_type": "markdown",
   "metadata": {},
   "source": [
    "#Overview & motivation \n",
    "\n",
    "All of our team members enjoy movies.  In addition to enjoying movies, we also enjoy working with API’s and somewhat structured data sets. Therefore, determining what makes a movie successful using the data available in the Internet Movie Database (IMDB) and Wikipedia seemed like a natural choice. "
   ]
  },
  {
   "cell_type": "code",
   "execution_count": 2,
   "metadata": {
    "collapsed": true
   },
   "outputs": [],
   "source": [
    "from imdb import IMDb\n",
    "%matplotlib inline\n",
    "import numpy as np\n",
    "import scipy as sp\n",
    "import matplotlib as mpl\n",
    "import matplotlib.cm as cm\n",
    "import matplotlib.pyplot as plt\n",
    "import pandas as pd\n",
    "import time\n",
    "import cPickle as pickle\n",
    "ia = IMDb(accessSystem='http')"
   ]
  },
  {
   "cell_type": "markdown",
   "metadata": {},
   "source": [
    "#Related Work "
   ]
  },
  {
   "cell_type": "markdown",
   "metadata": {},
   "source": [
    "#Initial Questions "
   ]
  },
  {
   "cell_type": "markdown",
   "metadata": {},
   "source": [
    "#Data "
   ]
  },
  {
   "cell_type": "markdown",
   "metadata": {},
   "source": [
    "Pulling in Oscar CSV (Dana's Work)"
   ]
  },
  {
   "cell_type": "code",
   "execution_count": 5,
   "metadata": {
    "collapsed": false
   },
   "outputs": [
    {
     "data": {
      "text/html": [
       "<div style=\"max-height:1000px;max-width:1500px;overflow:auto;\">\n",
       "<table border=\"1\" class=\"dataframe\">\n",
       "  <thead>\n",
       "    <tr style=\"text-align: right;\">\n",
       "      <th></th>\n",
       "      <th>Original Title</th>\n",
       "      <th>English Title</th>\n",
       "      <th>Sort Title</th>\n",
       "      <th>Year</th>\n",
       "      <th>Country</th>\n",
       "      <th>Award</th>\n",
       "      <th>Category</th>\n",
       "      <th>Winner?</th>\n",
       "      <th>Nominee(s)</th>\n",
       "      <th>__ Academy Awards</th>\n",
       "      <th>Item</th>\n",
       "      <th>title</th>\n",
       "    </tr>\n",
       "  </thead>\n",
       "  <tbody>\n",
       "    <tr>\n",
       "      <th>0</th>\n",
       "      <td> 7th Heaven</td>\n",
       "      <td> 7th Heaven</td>\n",
       "      <td> 7th Heaven</td>\n",
       "      <td> 1927-1928</td>\n",
       "      <td> 0</td>\n",
       "      <td> Academy Award</td>\n",
       "      <td> Best Picture</td>\n",
       "      <td> 0</td>\n",
       "      <td>                    Fox</td>\n",
       "      <td> 1st</td>\n",
       "      <td> 1</td>\n",
       "      <td> 7th Heaven (1927)</td>\n",
       "    </tr>\n",
       "    <tr>\n",
       "      <th>1</th>\n",
       "      <td> The Racket</td>\n",
       "      <td> The Racket</td>\n",
       "      <td>     Racket</td>\n",
       "      <td> 1927-1928</td>\n",
       "      <td> 0</td>\n",
       "      <td> Academy Award</td>\n",
       "      <td> Best Picture</td>\n",
       "      <td> 0</td>\n",
       "      <td>      The Caddo Company</td>\n",
       "      <td> 1st</td>\n",
       "      <td> 2</td>\n",
       "      <td> The Racket (1927)</td>\n",
       "    </tr>\n",
       "    <tr>\n",
       "      <th>2</th>\n",
       "      <td>      Wings</td>\n",
       "      <td>      Wings</td>\n",
       "      <td>      Wings</td>\n",
       "      <td> 1927-1928</td>\n",
       "      <td> 0</td>\n",
       "      <td> Academy Award</td>\n",
       "      <td> Best Picture</td>\n",
       "      <td> 1</td>\n",
       "      <td> Paramount Famous Lasky</td>\n",
       "      <td> 1st</td>\n",
       "      <td> 3</td>\n",
       "      <td>      Wings (1927)</td>\n",
       "    </tr>\n",
       "  </tbody>\n",
       "</table>\n",
       "</div>"
      ],
      "text/plain": [
       "  Original Title English Title  Sort Title       Year Country          Award  \\\n",
       "0     7th Heaven    7th Heaven  7th Heaven  1927-1928       0  Academy Award   \n",
       "1     The Racket    The Racket      Racket  1927-1928       0  Academy Award   \n",
       "2          Wings         Wings       Wings  1927-1928       0  Academy Award   \n",
       "\n",
       "       Category  Winner?              Nominee(s) __ Academy Awards  Item  \\\n",
       "0  Best Picture        0                     Fox               1st     1   \n",
       "1  Best Picture        0       The Caddo Company               1st     2   \n",
       "2  Best Picture        1  Paramount Famous Lasky               1st     3   \n",
       "\n",
       "               title  \n",
       "0  7th Heaven (1927)  \n",
       "1  The Racket (1927)  \n",
       "2       Wings (1927)  "
      ]
     },
     "execution_count": 5,
     "metadata": {},
     "output_type": "execute_result"
    }
   ],
   "source": [
    "# Read in Academy Awards df\n",
    "x = pd.read_excel(\"Academy_Awards_2006.xls\")\n",
    "# Concat Original Title with first part of year\n",
    "x['Year'] = x['Year'].values.astype(str)\n",
    "x['title'] = x.apply( lambda row: '%s (%s)' % (row['Original Title'],row['Year'][:4]),axis=1)\n",
    "x['Winner?'] = 1*(x['Winner?'] == 'X')\n",
    "x.head(3)"
   ]
  },
  {
   "cell_type": "code",
   "execution_count": 8,
   "metadata": {
    "collapsed": true
   },
   "outputs": [],
   "source": [
    "# Subset the data for easier use\n",
    "y = x[:14]\n",
    "# find all possible awards\n",
    "awards = list(set(list(x['Category'])))"
   ]
  },
  {
   "cell_type": "code",
   "execution_count": 11,
   "metadata": {
    "collapsed": false
   },
   "outputs": [],
   "source": [
    "moviedict = dict.fromkeys(y['Original Title'])\n",
    "for movie in moviedict:\n",
    "    moviedict[movie] = {}\n",
    "    moviedict[movie]['nominations'] = list(y[y['Original Title']==movie]['Category'])\n",
    "    moviedict[movie]['won'] = list(y[(y['Original Title']==movie) & (y['Winner?']==1)]['Category'])\n",
    "    moviedict[movie]['titleyr'] = list(y[y['Original Title']==movie]['title'])[0]\n",
    "    moviedict[movie]['year'] = list(y[y['Original Title']==movie]['Year'])[0]\n",
    "    moviedict[movie]['nominees'] = list(y[y['Original Title']==movie]['Nominee(s)'])\n",
    "    moviedict[movie]['titles'] = ia.search_movie(list(y[y['Original Title']==movie]['title'])[0], _episodes=False)\n",
    "    # For complete listing of movies...\n",
    "    # ** Currently assuming the first movie in list is the correct one! **\n",
    "    movieids = list()\n",
    "    for i in range(0,len(moviedict[movie]['titles'])):\n",
    "        movieids.append(moviedict[movie]['titles'][i].movieID)\n",
    "    moviedict[movie]['movieIDs'] = movieids\n",
    "    # Loop through awards list and indicate if movie was nominated or won\n",
    "    for award in awards:\n",
    "        moviedict[movie][\"Nominated %s\" % award] = award in list(moviedict[movie]['nominations'])\n",
    "        moviedict[movie][\"Won %s\" % award] = award in list(moviedict[movie]['won'])\n",
    "    # Only enter this loop if there was an imdb movieid found\n",
    "    #if len(movieids) > 0:\n",
    "        #mov = ia.get_movie(movieids[0])\n",
    "        #moviedict[movie]['prodcomp'] = mov.data['production companies']\n",
    "        #moviedict[movie]['cast'] = mov.data['cast']"
   ]
  },
  {
   "cell_type": "code",
   "execution_count": 12,
   "metadata": {
    "collapsed": false
   },
   "outputs": [
    {
     "data": {
      "text/plain": [
       "{u'Nominated Award of Commendation': False,\n",
       " u'Nominated Best Actor': False,\n",
       " u'Nominated Best Actress': True,\n",
       " u'Nominated Best Animated Feature Film': False,\n",
       " u'Nominated Best Art Direction': False,\n",
       " u'Nominated Best Art Direction, Black-and-White': False,\n",
       " u'Nominated Best Art Direction, Color': False,\n",
       " u'Nominated Best Assistant Director': False,\n",
       " u'Nominated Best Cinematography': False,\n",
       " u'Nominated Best Cinematography, Black-and-White': False,\n",
       " u'Nominated Best Cinematography, Color': False,\n",
       " u'Nominated Best Costume Design': False,\n",
       " u'Nominated Best Costume Design, Black-and-White': False,\n",
       " u'Nominated Best Costume Design, Color': False,\n",
       " u'Nominated Best Dance Direction': False,\n",
       " u'Nominated Best Director': False,\n",
       " u'Nominated Best Director, Comedy': False,\n",
       " u'Nominated Best Director, Drama': False,\n",
       " u'Nominated Best Documentary': False,\n",
       " u'Nominated Best Documentary, Feature': False,\n",
       " u'Nominated Best Documentary, Short Subject': False,\n",
       " u'Nominated Best Engineering Effects': False,\n",
       " u'Nominated Best Film Editing': False,\n",
       " u'Nominated Best Foreign Language Film': False,\n",
       " u'Nominated Best Makeup': False,\n",
       " u'Nominated Best Music, Adaptation / Original Song Score': False,\n",
       " u'Nominated Best Music, Dramatic Picture': False,\n",
       " u'Nominated Best Music, Dramatic Score': False,\n",
       " u'Nominated Best Music, Dramatic or Comedy Picture': False,\n",
       " u'Nominated Best Music, Musical Picture': False,\n",
       " u'Nominated Best Music, Musical or Comedy Score': False,\n",
       " u'Nominated Best Music, Original Score': False,\n",
       " u'Nominated Best Music, Scoring': False,\n",
       " u'Nominated Best Music, Song': False,\n",
       " u'Nominated Best Picture': True,\n",
       " u'Nominated Best Short Film, Animated': False,\n",
       " u'Nominated Best Short Film, Live Action': False,\n",
       " u'Nominated Best Short Subject, Animated': False,\n",
       " u'Nominated Best Short Subject, Cartoon': False,\n",
       " u'Nominated Best Short Subject, Color': False,\n",
       " u'Nominated Best Short Subject, Comedy': False,\n",
       " u'Nominated Best Short Subject, Live Action': False,\n",
       " u'Nominated Best Short Subject, Novelty': False,\n",
       " u'Nominated Best Short Subject, One-reel': False,\n",
       " u'Nominated Best Short Subject, Two-reel': False,\n",
       " u'Nominated Best Sound': False,\n",
       " u'Nominated Best Sound Editing': False,\n",
       " u'Nominated Best Sound Effects': False,\n",
       " u'Nominated Best Sound Effects Editing': False,\n",
       " u'Nominated Best Sound Mixing': False,\n",
       " u'Nominated Best Sound Recording': False,\n",
       " u'Nominated Best Special Effects': False,\n",
       " u'Nominated Best Special Visual Effects': False,\n",
       " u'Nominated Best Supporting Actor': False,\n",
       " u'Nominated Best Supporting Actress': False,\n",
       " u'Nominated Best Unique and Artistic Picture': False,\n",
       " u'Nominated Best Visual Effects': False,\n",
       " u'Nominated Best Writing': False,\n",
       " u'Nominated Best Writing, Adapted Screenplay': False,\n",
       " u'Nominated Best Writing, Original Screenplay': False,\n",
       " u'Nominated Best Writing, Original Story': False,\n",
       " u'Nominated Best Writing, Title Writing': False,\n",
       " u'Nominated Gordon E. Sawyer Award': False,\n",
       " u'Nominated Honorary Award': False,\n",
       " u'Nominated Irving G. Thalberg Memorial Award': False,\n",
       " u'Nominated Jean Hersholt Humanitarian Award': False,\n",
       " u'Nominated Medal of Commendation': False,\n",
       " u'Nominated Special Achievement Award': False,\n",
       " u'Nominated Special Award': False,\n",
       " u'Won Award of Commendation': False,\n",
       " u'Won Best Actor': False,\n",
       " u'Won Best Actress': True,\n",
       " u'Won Best Animated Feature Film': False,\n",
       " u'Won Best Art Direction': False,\n",
       " u'Won Best Art Direction, Black-and-White': False,\n",
       " u'Won Best Art Direction, Color': False,\n",
       " u'Won Best Assistant Director': False,\n",
       " u'Won Best Cinematography': False,\n",
       " u'Won Best Cinematography, Black-and-White': False,\n",
       " u'Won Best Cinematography, Color': False,\n",
       " u'Won Best Costume Design': False,\n",
       " u'Won Best Costume Design, Black-and-White': False,\n",
       " u'Won Best Costume Design, Color': False,\n",
       " u'Won Best Dance Direction': False,\n",
       " u'Won Best Director': False,\n",
       " u'Won Best Director, Comedy': False,\n",
       " u'Won Best Director, Drama': False,\n",
       " u'Won Best Documentary': False,\n",
       " u'Won Best Documentary, Feature': False,\n",
       " u'Won Best Documentary, Short Subject': False,\n",
       " u'Won Best Engineering Effects': False,\n",
       " u'Won Best Film Editing': False,\n",
       " u'Won Best Foreign Language Film': False,\n",
       " u'Won Best Makeup': False,\n",
       " u'Won Best Music, Adaptation / Original Song Score': False,\n",
       " u'Won Best Music, Dramatic Picture': False,\n",
       " u'Won Best Music, Dramatic Score': False,\n",
       " u'Won Best Music, Dramatic or Comedy Picture': False,\n",
       " u'Won Best Music, Musical Picture': False,\n",
       " u'Won Best Music, Musical or Comedy Score': False,\n",
       " u'Won Best Music, Original Score': False,\n",
       " u'Won Best Music, Scoring': False,\n",
       " u'Won Best Music, Song': False,\n",
       " u'Won Best Picture': False,\n",
       " u'Won Best Short Film, Animated': False,\n",
       " u'Won Best Short Film, Live Action': False,\n",
       " u'Won Best Short Subject, Animated': False,\n",
       " u'Won Best Short Subject, Cartoon': False,\n",
       " u'Won Best Short Subject, Color': False,\n",
       " u'Won Best Short Subject, Comedy': False,\n",
       " u'Won Best Short Subject, Live Action': False,\n",
       " u'Won Best Short Subject, Novelty': False,\n",
       " u'Won Best Short Subject, One-reel': False,\n",
       " u'Won Best Short Subject, Two-reel': False,\n",
       " u'Won Best Sound': False,\n",
       " u'Won Best Sound Editing': False,\n",
       " u'Won Best Sound Effects': False,\n",
       " u'Won Best Sound Effects Editing': False,\n",
       " u'Won Best Sound Mixing': False,\n",
       " u'Won Best Sound Recording': False,\n",
       " u'Won Best Special Effects': False,\n",
       " u'Won Best Special Visual Effects': False,\n",
       " u'Won Best Supporting Actor': False,\n",
       " u'Won Best Supporting Actress': False,\n",
       " u'Won Best Unique and Artistic Picture': False,\n",
       " u'Won Best Visual Effects': False,\n",
       " u'Won Best Writing': False,\n",
       " u'Won Best Writing, Adapted Screenplay': False,\n",
       " u'Won Best Writing, Original Screenplay': False,\n",
       " u'Won Best Writing, Original Story': False,\n",
       " u'Won Best Writing, Title Writing': False,\n",
       " u'Won Gordon E. Sawyer Award': False,\n",
       " u'Won Honorary Award': False,\n",
       " u'Won Irving G. Thalberg Memorial Award': False,\n",
       " u'Won Jean Hersholt Humanitarian Award': False,\n",
       " u'Won Medal of Commendation': False,\n",
       " u'Won Special Achievement Award': False,\n",
       " u'Won Special Award': False,\n",
       " 'movieIDs': ['0018379'],\n",
       " 'nominations': [u'Best Picture', u'Best Actress'],\n",
       " 'nominees': [u'Fox', u'Janet Gaynor'],\n",
       " 'titles': [<Movie id:0018379[http] title:_7th Heaven (1927)_>],\n",
       " 'titleyr': u'7th Heaven (1927)',\n",
       " 'won': [u'Best Actress'],\n",
       " 'year': '1927-1928'}"
      ]
     },
     "execution_count": 12,
     "metadata": {},
     "output_type": "execute_result"
    }
   ],
   "source": [
    "moviedict['7th Heaven']"
   ]
  },
  {
   "cell_type": "code",
   "execution_count": 18,
   "metadata": {
    "collapsed": false
   },
   "outputs": [],
   "source": [
    "pickle.dump(moviedict,open('moviedict','wb'))\n",
    "#moviedict = pickle.load(open('moviedict','rb'))"
   ]
  },
  {
   "cell_type": "markdown",
   "metadata": {},
   "source": [
    "#Exploratory Data Analysis "
   ]
  },
  {
   "cell_type": "markdown",
   "metadata": {},
   "source": [
    "#Final Analysis"
   ]
  },
  {
   "cell_type": "markdown",
   "metadata": {},
   "source": [
    "#Presentation "
   ]
  },
  {
   "cell_type": "code",
   "execution_count": null,
   "metadata": {
    "collapsed": true
   },
   "outputs": [],
   "source": []
  }
 ],
 "metadata": {
  "kernelspec": {
   "display_name": "Python 2",
   "language": "python",
   "name": "python2"
  },
  "language_info": {
   "codemirror_mode": {
    "name": "ipython",
    "version": 2
   },
   "file_extension": ".py",
   "mimetype": "text/x-python",
   "name": "python",
   "nbconvert_exporter": "python",
   "pygments_lexer": "ipython2",
   "version": "2.7.10"
  }
 },
 "nbformat": 4,
 "nbformat_minor": 0
}
