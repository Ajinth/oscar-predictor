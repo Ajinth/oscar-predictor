{
 "cells": [
  {
   "cell_type": "code",
   "execution_count": 1,
   "metadata": {
    "collapsed": true
   },
   "outputs": [],
   "source": [
    "from imdb import IMDb\n",
    "from collections import defaultdict\n",
    "import cPickle as pickle  \n",
    "import io"
   ]
  },
  {
   "cell_type": "code",
   "execution_count": 3,
   "metadata": {
    "collapsed": false
   },
   "outputs": [
    {
     "name": "stdout",
     "output_type": "stream",
     "text": [
      "retrieved 1120479 titles\n",
      "acquired 23 movies\n"
     ]
    }
   ],
   "source": [
    "def get_titles():\n",
    "    # this file is too big for github, but you cannot download it to your \n",
    "    # local computer at this link. I keep my file in the parent directory \n",
    "    # of this repository. \n",
    "    f = open('../movies.list')\n",
    "    titles = []\n",
    "    record = False\n",
    "    for line in f.readlines():\n",
    "        if \"===========\" in line:\n",
    "            record = True\n",
    "        if record and line[0] != '\"' and line[0].isalnum():\n",
    "            line_list = line.split('\\t')\n",
    "            line_list2 = line_list[0].split(')')\n",
    "            line_list3 = line_list2[0].split('(')\n",
    "            if len(line_list3) >= 2:\n",
    "                title = line_list3[0]\n",
    "                year = line_list3[1]\n",
    "                if \"???\" not in year:\n",
    "                    if \"{\" in line and len(titles) >= 1:\n",
    "                        del titles[-1]\n",
    "                    else:\n",
    "                        titles.append((title, year))\n",
    "    print \"retrieved %d titles\" % len(titles)\n",
    "    return titles\n",
    "\n",
    "def find_movie(title, year,  mlist):\n",
    "    # find movies that came out in the same year                                                                                                                                    \n",
    "    year_list = []\n",
    "    for movie in mlist:\n",
    "        try:\n",
    "            if movie.data['year'] == int(year):\n",
    "                year_list.append(movie)\n",
    "        except:\n",
    "            pass\n",
    "    # if the years do not match, there is no match                                                                                                                                  \n",
    "    if len(year_list) < 1:\n",
    "        return None\n",
    "    else:\n",
    "        # process the title                                                                                                                                                         \n",
    "        sorted_title = \"\".join(sorted(title)).replace(\" \", \"\")\n",
    "        len_sorted_title = len(sorted_title)\n",
    "        # check whether movies that came out in the same year                                                                                                                       \n",
    "        # have the same letters                                                                                                                                                     \n",
    "        counts = [0]*len(year_list)\n",
    "        for j in range(len(year_list)):\n",
    "            mtitle = year_list[j]['title']\n",
    "            sorted_mtitle = \"\".join(sorted(mtitle)).replace(\" \", \"\")\n",
    "            if len_sorted_title == len(sorted_mtitle):\n",
    "                # if the title cannot be converted to a string                                                                                                                      \n",
    "                # it is not the correct title                                                                                                                                       \n",
    "                try:\n",
    "                    sorted_mtitle = str(sorted_mtitle)\n",
    "                except:\n",
    "                    continue\n",
    "                for i in range(len_sorted_title):\n",
    "                    if sorted_title[i] == sorted_mtitle[i]:\n",
    "                        counts[j] += 1\n",
    "            else:\n",
    "                return None\n",
    "        k = counts.index(max(counts))\n",
    "        if len(year_list) >= 1:\n",
    "            return year_list[k]\n",
    "        else:\n",
    "            return None\n",
    "        \n",
    "def get_movies(ia, titles):\n",
    "    movie_list = []\n",
    "    for title, year in titles[:100]:\n",
    "        search_title = title + ' ('+year+')'\n",
    "        movies = ia.search_movie(search_title)\n",
    "        movie_title = find_movie(title, year, movies)\n",
    "        if (movie_title !=  None) and (movie_title['kind'] == unicode('movie')):\n",
    "            movie = ia.get_movie(movie_title.movieID)\n",
    "            if movie.data.has_key('genres') and (unicode('Adult') in movie.data['genres']):\n",
    "                pass\n",
    "            else:\n",
    "                movie_list.append(movie)\n",
    "\n",
    "    print \"acquired %d movies\" % len(movie_list)\n",
    "    return movie_list\n",
    "\n",
    "\n",
    "ia = IMDb()\n",
    "titles = get_titles()\n",
    "movies = get_movies(ia, titles)"
   ]
  },
  {
   "cell_type": "code",
   "execution_count": 4,
   "metadata": {
    "collapsed": false
   },
   "outputs": [
    {
     "name": "stdout",
     "output_type": "stream",
     "text": [
      "Saved 23 movies to movies.p \n"
     ]
    }
   ],
   "source": [
    "filename = 'movies.p'\n",
    "pickle.dump(movies, io.open(filename,'wb'))\n",
    "movies = pickle.load(io.open(filename,'rb'))\n",
    "print \"Saved %d movies to %s \" %(len(movies), filename)"
   ]
  }
 ],
 "metadata": {
  "kernelspec": {
   "display_name": "Python 2",
   "language": "python",
   "name": "python2"
  },
  "language_info": {
   "codemirror_mode": {
    "name": "ipython",
    "version": 2
   },
   "file_extension": ".py",
   "mimetype": "text/x-python",
   "name": "python",
   "nbconvert_exporter": "python",
   "pygments_lexer": "ipython2",
   "version": "2.7.10"
  }
 },
 "nbformat": 4,
 "nbformat_minor": 0
}
