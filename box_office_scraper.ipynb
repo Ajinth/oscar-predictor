{
 "cells": [
  {
   "cell_type": "code",
   "execution_count": 3,
   "metadata": {
    "collapsed": true
   },
   "outputs": [],
   "source": [
    "from imdb import IMDb \n",
    "from bs4 import BeautifulSoup\n",
    "import cPickle as pickle \n",
    "import io\n",
    "import time\n",
    "import requests"
   ]
  },
  {
   "cell_type": "code",
   "execution_count": 4,
   "metadata": {
    "collapsed": false
   },
   "outputs": [],
   "source": [
    "pages_by_year = {}\n",
    "\n",
    "pages = xrange(1,9)\n",
    "pagestext = {}\n",
    "for page in pages: \n",
    "    r = requests.get(\"http://www.boxofficemojo.com/yearly/chart/?page=%s&view=releasedate&view2=domestic&yr=2014&p=.htm\"%page)\n",
    "    pagestext[page] = r.text\n",
    "    time.sleep(1)"
   ]
  },
  {
   "cell_type": "code",
   "execution_count": 13,
   "metadata": {
    "collapsed": false,
    "scrolled": false
   },
   "outputs": [],
   "source": [
    "from collections import defaultdict \n",
    "movie_budget = defaultdict(list) \n",
    "year = 2014\n",
    "for page in pages: \n",
    "    soup = BeautifulSoup(pagestext[page], \"html.parser\")\n",
    "    rows = soup.find_all(\"font\", attrs={'size':'2'})\n",
    "           \n",
    "    start = 10 \n",
    "    for i in range(start,len(rows)-2):\n",
    "        t = rows[i].get_text()\n",
    "        if unicode('Summary of') in t: \n",
    "            break\n",
    "        elif (i-start) % 9 == 0: \n",
    "            movie_budget['rank'].append(t)\n",
    "        elif (i-start) % 9 == 1: \n",
    "            r = '('+str(year)+')'\n",
    "            if unicode(r) in t: \n",
    "                j = t.index(unicode(r))\n",
    "                movie_budget['title'].append(t[:j])\n",
    "            else: \n",
    "                movie_budget['title'].append(t)\n",
    "        elif (i-start) % 9 == 2: \n",
    "            movie_budget['studio'].append(t)\n",
    "        elif (i-start) % 9 == 3: \n",
    "            movie_budget['gross'].append(t)\n",
    "        elif (i-start) % 9 == 4: \n",
    "            movie_budget['gross theaters'].append(t)\n",
    "        elif (i-start) % 9 == 5: \n",
    "            movie_budget['opening'].append(t)\n",
    "        elif (i-start) % 9 == 6: \n",
    "            movie_budget['opening theaters'].append(t)\n",
    "        elif (i-start) % 9 == 7: \n",
    "            movie_budget['open'].append(t)\n",
    "        elif (i-start) % 9 == 8: \n",
    "            movie_budget['close'].append(t)"
   ]
  },
  {
   "cell_type": "code",
   "execution_count": 12,
   "metadata": {
    "collapsed": false
   },
   "outputs": [
    {
     "name": "stdout",
     "output_type": "stream",
     "text": [
      "[u'American Sniper', u'The Hunger Games: Mockingjay - Part 1', u'Guardians of the Galaxy', u'Captain America: The Winter Soldier', u'The LEGO Movie', u'The Hobbit: The Battle of the Five Armies', u'Transformers: Age of Extinction', u'Maleficent', u'X-Men: Days of Future Past', u'Big Hero 6', u'Dawn of the Planet of the Apes', u'The Amazing Spider-Man 2', u'Godzilla ', u'22 Jump Street', u'Teenage Mutant Ninja Turtles ', u'Interstellar', u'How to Train Your Dragon 2', u'Gone Girl', u'Divergent', u'Neighbors', u'Ride Along', u'Rio 2', u'Into the Woods', u'Lucy', u'The Fault in our Stars', u'Unbroken', u'Night at the Museum: Secret of the Tomb', u'Mr. Peabody & Sherman', u'300: Rise of An Empire', u'The Maze Runner', u'The Equalizer', u'Noah', u'Edge of Tomorrow', u'Non-Stop', u'Heaven is for Real', u'The Imitation Game', u'Dumb and Dumber To', u'Annie ', u'Fury ', u'Tammy', u'Annabelle', u'The Other Woman ', u'Penguins of Madagascar', u\"Let's Be Cops\", u'The Monuments Men', u'Hercules ', u'The Purge: Anarchy', u'Alexander and the Terrible, Horrible, No Good, Very Bad Day', u'Think Like a Man Too', u'Exodus: Gods and Kings', u'The Nut Job', u\"God's Not Dead\", u'Son of God', u'Planes: Fire & Rescue', u'The Grand Budapest Hotel', u'RoboCop ', u'Dracula Untold', u'Horrible Bosses 2', u'The Hundred-Foot Journey', u'No Good Deed ', u'Selma', u'Muppets Most Wanted', u'Ouija', u'The Boxtrolls', u'Jack Ryan: Shadow Recruit', u'If I Stay', u'The Book of Life ', u'About Last Night ', u'Into The Storm', u'The Judge', u'Jersey Boys', u'Blended', u'The Giver', u'St. Vincent', u'Need for Speed', u'A Million Ways to Die in the West', u'John Wick', u'Birdman', u'Dolphin Tale 2', u'The Expendables 3', u'Earth to Echo', u'Sex Tape', u'Wild ', u'Million Dollar Arm', u'The Theory of Everything', u'This is Where I Leave You', u'The Gambler', u'Paranormal Activity: The Marked Ones', u'Nightcrawler', u'Chef', u'Get On Up', u'3 Days to Kill', u'Deliver Us From Evil', u'When the Game Stands Tall', u'Draft Day', u'Oculus', u'The Best of Me', u'A Walk Among the Tombstones', u'That Awkward Moment', u'Boyhood', u'Top Five', u'The November Man', u'Endless Love ', u'Pompeii', u'Transcendence', u'As Above/So Below', u'Brick Mansions', u'I, Frankenstein', u'The Legend of Hercules', u'Bears', u'Addicted', u'A Haunted House 2', u'A Most Wanted Man', u'Begin Again', u\"Tyler Perry's The Single Moms Club\", u\"Devil's Due\", u'And So It Goes', u'Step Up All In', u'Beyond the Lights', u'Big Eyes', u'America ', u'Left Behind ', u\"Frank Miller's Sin City: A Dame to Kill For\", u'Labor Day', u'Whiplash', u\"Winter's Tale\", u'Foxcatcher', u'Belle', u'The Drop', u'P.K.', u'Magic in the Moonlight', u'Sabotage ', u'Island of Lemurs: Madagascar (IMAX)', u\"Moms' Night Out\", u'The Quiet Ones', u\"Legends of Oz: Dorothy's Return\", u'Inherent Vice', u'Vampire Academy', u'Bad Words', u'Cantinflas', u'The Interview ', u'Meet the Mormons', u'A Most Violent Year', u'Cesar Chavez', u'The Skeleton Twins', u'The Wind Rises', u'Snowpiercer', u'The Railway Man', u'Dear White People', u'The Lunchbox', u'My Old Lady', u'Mr. Turner', u'Ida', u'Fading Gigolo', u'Calvary', u'Wish I Was Here', u'Ghostbusters (30th Anniversary re-release)', u'Mommy', u'What If ', u'The Grand Seduction', u'Veronica Mars', u'Before I Go To Sleep', u'Rosewater', u'Obvious Child', u'The Trip to Italy', u'The Identical', u'The Fluffy Movie', u'Citizenfour', u\"Kirk Cameron's Saving Christmas\", u'The Pyramid', u'The Good Lie', u'The Raid 2', u'Under the Skin ', u'The Admiral: Roaring Currents', u'Dragon Ball Z: Battle of Gods', u'Bang Bang', u'Kick', u'Kill the Messenger', u'The Homesman', u'Ode to My Father', u'Love is Strange', u'2 States', u'Le Week-End', u'Anchorman 2 (R-Rated Extended Cut)', u'2014 Oscar Nominated Short Films', u'Words and Pictures', u'Gloria ', u'The Immigrant', u'Only Lovers Left Alive', u'Tusk', u\"Tim's Vermeer\", u'Persecuted', u'Awake: The Life of Yogananda', u'Fed Up', u'Finding Vivian Maier', u'Pride ', u'Two Days, One Night', u'Locke', u'Gimme Shelter', u'Force Majeure', u'Jai Ho', u'Singham Returns', u'Repentance', u'The Remaining', u'Hector And The Search For Happiness', u'The Rover', u'Leviathan ', u'The Captive', u'Laggies', u'50 to 1', u'Haider', u'Third Person', u'Stalingrad ', u'The Song', u'Enemy', u'The Babadook', u'Walking with the Enemy', u'Shaadi Ke Side Effects', u'Mas Negro Que La Noche', u'Particle Fever', u'Song of the Sea', u'Atlas Shrugged Part III: Who Is John Galt?', u'Kochadaiiyaan', u'Saw 10th Anniversary', u'Life Itself', u'Nymphomaniac: Volume I', u'Breakup Buddies', u'Palo Alto', u'Ek Villain', u'Land Ho!', u'Yves Saint Laurent', u'Khoobsurat', u'Holiday ', u'Men, Women & Children', u'The Tale of The Princess Kaguya', u'Frankie & Alice ', u'A Matter of Faith', u\"Jodorowsky's Dune\", u'Hasee Toh Phasee', u'Frank', u'Mary Kom', u'Finding Fanny', u'The Signal ', u'The Disappearance of Eleanor Rigby', u'Back in Time (Congcong Nanian)', u'Forrest Gump (IMAX)', u'The Attorney', u'23 Blast', u'On Any Sunday: The Next Chapter', u'Highway ', u'Dom Hemingway', u\"A Hard Day's Night (2014 re-release)\", u'The One I Love', u'Tracks ', u'The Two Faces of January', u'A Girl Walks Home Alone at Night', u'Last Days in Vietnam', u'In Secret', u'But Always (Yi Sheng Yi Shi)', u'Beijing Love Story', u'Cold in July', u\"She's Beautiful When She's Angry\", u'The German Doctor', u'The Pirates', u'Goodbye to Language', u'Humpty Sharma Ki Dulhania', u'Women Who Flirt (Sajiao Nvren)', u'Venus in Fur', u'Joe ', u\"Glen Campbell... I'll Be Me\", u'Omar', u'The Face of Love', u'Le Chef', u'Jimi: All Is By My Side', u'Chinese Puzzle', u'I Origins', u'Like Father, Like Son ', u'The Guest ', u'Elaine Stritch: Shoot Me', u'Nymphomaniac: Volume II', u'Stranger By the Lake', u'On My Way', u'Happy Ending', u\"The Hornet's Nest\", u'I Am Eleven', u'A Five Star Life', u'Mood Indigo', u'Innocence ', u'The Dance of Reality', u'Antarctica: A Year on Ice', u'The Last of Robin Hood', u'Elsa & Fred ', u'Kundo: Age of the Rampant', u'20,000 Days on Earth', u'The Unknown Known', u'Main Tera Hero', u'Night Moves', u'Love on the Cloud (Wei Ai)', u'The Love Punch', u'Life of Crime', u'Ernest & Celestine', u'Blue Ruin', u'The Green Prince', u'The Zero Theorem', u'Action Jackson ', u'Alive Inside', u'The Blue Room', u'National Gallery', u'Tazza: The Hidden Card', u'The Galapagos Affair: Satan Came to Eden', u\"James Cameron's Deepsea Challenge 3D\", u'Art and Craft', u'Diplomacy', u'Dr. Cabbie (U.S. only)', u'The Suspect ', u'Supermensch: The Legend of Shep Gordon', u'The Breakup Guru', u'Rob the Mob', u'Under the Electric Sky', u'Jinn', u'Bethlehem', u'The Double ', u'Listen Up Philip', u\"A Summer's Tale\", u'Code Black', u'We Are The Best!', u'Anita', u'Evangelion: 3.0 You Can (Not) Redo', u'Horns', u'Afternoon of a Faun', u'That Demon Within', u\"God's Pocket\", u'NAS: Time is Illmatic', u\"Keep On Keepin' On\", u'Sinbad: The Fifth Voyage', u'Citizen Koch', u'Alan Partridge: The Movie', u'Dancing in Jaffa', u'A Coffee in Berlin', u'Godzilla: The Japanese Original', u'Kids For Cash', u'Gore Vidal: United States of Amnesia', u'Mistaken for Strangers', u'The Congress', u'The Divine Move', u'Redwood Highway', u'The Jewish Cardinal', u'Raja Natwarlal', u'Bjork - Biophilia Live', u'Make Your Move', u'Knights of Badassdom', u'Afflicted ', u'Finding Fela', u'Zero Motivation', u'God the Father', u'The Liberator', u'Penton: The John Penton Story', u'Rich Hill', u'The Overnighters', u'Duran Duran: Unstaged', u'Anohana The Movie: The Flower We Saw That Day', u'Ivory Tower', u'Six Dance Lessons in Six Weeks', u'The Golden Era', u'God Help the Girl', u'Coherence', u'The Way He Looks', u'Korengal', u'One Chance', u'Beyond Sight: The Derek Rabelo Story', u'The Best Offer', u\"Child's Pose\", u'Hiroshima Mon Amour (2014 re-release)', u'Cuban Fury', u'Generation War', u'Girl on a Bicycle', u'Pump', u'Breathe In', u'The Principle', u'Life After Beth', u'Advanced Style', u'Visitors ', u'Watermark', u\"12 O'Clock Boys\", u'Water & Power', u'Fort McCoy', u'Whitey: USA v. James J. Bulger', u'Just a Sigh', u'Better Living Through Chemistry', u'Veil of Tears', u'Flamenco, Flamenco', u\"Je T'aime, Je T'aime (2014 re-issue)\", u'A Letter to Momo', u'The Better Angels', u'Take Me to the River', u'For No Good Reason', u'The Notebook ', u'Through a Lens Darkly', u'Art of the Steal', u'Jealousy', u'Heropanti', u'No Tears for the Dead', u'The Last Sentence', u'Young and Beautiful', u'Siddharth', u'Bicycling with Moliere', u'Frontera', u'Wetlands', u'Cheap Thrills', u'Walk of Shame', u'The One I Wrote For You', u'Sagrada: The Mystery of Creation', u'The Conformist (2014 re-release)', u'Rudderless', u'Borgman', u'The Rocket ', u'Ilo Ilo', u'The Bag Man', u'Big Men', u'In Bloom', u'Hellion', u'Starred Up', u'Half of a Yellow Sun', u'Low Down', u'Hateship Loveship', u'1,000 Times Good Night', u'At Middleton', u'Ping Pong Summer', u'To Be Takei', u'The Missing Picture', u'The Retrieval', u'The Discoverers', u'NOW: In the Wings on a World Stage', u'Shirin in Love', u\"The Internet's Own Boy\", u\"A Birder's Guide to Everything\", u'American Mustang', u'Viva La Liberta', u'Lucky Them', u'Decoding Annie Parker', u'Alphaville (2013 re-release)', u'A Master Builder', u'Monk With a Camera', u'Filmistaan', u'Return to The Hiding Place', u'Ai Weiwei: The Fake Case', u\"There's No Place Like Utopia\", u'The Dog', u'If You Build It', u'Road to Ninja - Naruto the Movie', u'Next Goal Wins', u'Interior. Leather Bar.', u'Blood Ties ', u'The Last Of The Unjust', u'Teenage', u'Child of God', u'Expedition to the End of the World', u'7 Boxes', u'Dead Snow 2: Red vs. Dead', u'Not Cool', u'Le Jour Se Leve (2014 re-release)', u'That Man From Rio', u'Beneath the Harvest Sky', u\"This Ain't No Mouse Music!\", u'Expelled from Paradise', u'Tiger & Bunny The Movie: The Rising', u'Filth', u'Rocks in my Pockets', u'White Bird in a Blizzard', u'It Felt Like Love', u'K: Missing Kings', u'Big Bad Wolves', u'A Field in England', u'For a Woman', u'The Hero of Color City', u'Bird People', u'Abuse of Weakness', u'The Passionate Thief (2014 re-release)', u'Documented', u'Happy Christmas', u'Jimmy P', u'Southern Baptist Sissies', u'A Long Way Off', u'Manakamana', u'Yellow Day', u'Othello (2014 re-release)', u\"Why Don't You Play in Hell\", u'Stations of the Elevated', u'Closed Curtain', u'The King and the Mockingbird', u'Lilting', u'Last Weekend', u'Elena ', u'Christian Mingle', u'Level Five', u'Adult World', u'Born to Fly: Elizabeth Streb vs. Gravity', u'Happy Valley ', u'Believe Me', u\"A Tale of Winter (Conte d'hiver)\", u'Video Games: The Movie', u'Short Peace', u'Two Lives', u'Grand Piano', u'May in the Summer', u'Bright Days Ahead', u'The Decent One', u'Memphis', u'The Sacrifice', u'Lekar Hum Deewana Dil', u'The Great Flood', u'Run and Jump', u'The Past is a Grotesque Animal', u'Uzumasa Limelight', u'A Picture of You', u'Guardian Angel', u'Peter Brook: The Tightrope', u'Actress ', u'Watchers of the Sky', u'The Kill Team', u'Test', u'Tasting Menu', u'Two Night Stand', u'Who is Dayani Cristal?', u'Journey to the West', u'Kelly & Cal', u'The Homestretch', u'Stand Clear of the Closing Doors', u'Accident', u'Cold Comes the Night', u'Hank and Asha', u'Burning Bush', u'Magician: The Astonishing Life and Work of Orson Welles', u'Levitated Mass', u'Barefoot', u'Horses of God', u'Last Passenger', u'Exhibition', u'13 Sins', u'Goodbye To All That', u'The Pretty One', u\"Tosca's Kiss (2014 re-release)\", u'Fifi Howls From Happiness', u'War of the Worlds: Goliath', u'A Long Way Down', u'Camp X-Ray', u'One Day Pina Asked...', u'Days and Nights', u'Sol LeWitt', u'The Pleasures of Being Out of Step', u'K2: Siren of the Himalayas', u'Alien Abduction', u'Concerning Violence', u'Special ID', u'Bhopal: A Prayer for Rain', u'Boy Meets Girl', u'Touch the Wall', u'Wolves', u'In No Great Hurry: 13 Lessons in Life with Saul Leiter', u'The French Minister', u'Queen Margot (2014 re-release)', u'Revenge of the Mekons', u'Falcon Rising', u'Life of Riley', u'Living is Easy with Eyes Closed', u\"You're Not You\", u'The Great Invisible', u'The Final Member', u'The Amazing Catfish', u'Dishkiyaoon', u'Policeman', u\"Pay 2 Play: Democracy's High Stakes\", u'The Players', u'As It Is In Heaven', u'Inside the Mind of Leonardo Da Vinci in 3D', u'Norte, the End of History', u'Stray Dogs', u'The Endless Summer (2014 re-release)', u'Kabbalah Me', u'Marius', u\"If You Don't, I Will\", u'On the Other Side of the Tracks', u'In the House of Flies', u'Radio Free Albemuth', u'The Immortalists', u'Honeymoon', u'The Sacrament', u'The Cabinet of Dr. Caligari (2014 re-release)', u'Fanny', u'The Mystery of Happiness', u'The Quitter', u'Canopy', u'Almost Human', u'Red Hollywood', u'Love is in the Air', u'Eternity the Movie', u'Gringo Trails', u'Life Partners', u'Before I Disappear', u'Empty Hours', u'Gladiators of Rome', u'Next Year Jerusalem', u'Rigor Mortis', u'Archipelago', u'Faith Connections', u'Come Back to Me', u'Iceman ', u'The Little Bedroom', u'Raze', u'I Am Ali', u\"The Strange Color of Your Body's Tears\", u'ABCs of Death 2', u'Stage Fright ', u'Plot for Peace', u'Very Good Girls', u'Pioneer', u'No God, No Master', u'Before You Know It', u'Will You Still Love Me Tomorrow', u'Comet', u'Aatsinki: The Story of Arctic Cowboys', u'Life of a King', u'Jews of Egypt', u'The Adventurer: The Curse of the Midas Box', u\"Manuscripts Don't Burn\", u'Tip Top', u'Love and Air Sex', u'Cavemen', u'Gang of Ghosts', u'The Strange Little Cat', u'2 Autumns, 3 Winters', u\"The Devil's Hand\", u'Papirosen', u'Kid Cannabis', u'Gabrielle ', u'Flex is Kings', u'The Only Real Game', u\"Return to Nuke 'Em High Volume 1\", u'Sleepwalker', u'Nothing Bad Can Happen', u'Half the Road', u'Death Metal Angola', u'Smiling Through the Apocalypse', u'Unrelated', u'The Truth About Emanuel', u'Anna', u'Thunder and the House of Magic!', u'Maidan', u'Beyond Outrage', u'Swim Little Fish Swim', u'Hollidaysburg', u'The Word', u'Stop the Pounding Heart', u'Hide Your Smiling Faces', u'Evolution of a Criminal', u'Locker 13', u'The Hacker Wars', u'Aftermath ', u\"Life's a Breeze\", u'Age of Uprising: The Legend of Michael Kohlhaas (U.S. only)', u'The Girl on the Train ', u'Showrunners: The Art of Running a TV Show', u'What Now? Remind Me', u'French Gigolo (Cliente)', u'Fatal Assistance', u'V/H/S: Viral', u'Black Out', u'Mercedes Sosa: The Voice of Latin America', u'Refuge', u'Indigo Children', u'Jake Squared', u'McCanick', u'Two-Bit Waltz', u'The Wait', u'The Protector 2', u'Evergreen: The Road to Legalization', u'Moebius', u'Infliction', u'Missionary', u'Missionary', u'The Right Kind of Wrong', u'Algorithms', u'Open Windows', u'Mr. Pip', u'More Than the Rainbow', u'Summer in February', u'Rhymes for Young Ghouls', u'Postman Pat: The Movie', u'Souldier', u'Ragnarok', u'The Tower ', u'Anything For Alice', u'We Are the Giant', u'The Butterfly Room', u'Demi-Soeur', u'Free the Nipple', u'A People Uncounted', u'Jackpot', u'Grand Depart', u'Skinless', u'Cinemanovels', u\"Mummy, I'm a Zombie\"]\n"
     ]
    }
   ],
   "source": [
    "print movie_budget['title']"
   ]
  },
  {
   "cell_type": "code",
   "execution_count": null,
   "metadata": {
    "collapsed": true
   },
   "outputs": [],
   "source": []
  }
 ],
 "metadata": {
  "kernelspec": {
   "display_name": "Python 2",
   "language": "python",
   "name": "python2"
  },
  "language_info": {
   "codemirror_mode": {
    "name": "ipython",
    "version": 2
   },
   "file_extension": ".py",
   "mimetype": "text/x-python",
   "name": "python",
   "nbconvert_exporter": "python",
   "pygments_lexer": "ipython2",
   "version": "2.7.10"
  }
 },
 "nbformat": 4,
 "nbformat_minor": 0
}
