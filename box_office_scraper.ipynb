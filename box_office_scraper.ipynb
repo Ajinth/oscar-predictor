{
 "cells": [
  {
   "cell_type": "code",
   "execution_count": 3,
   "metadata": {
    "collapsed": true
   },
   "outputs": [],
   "source": [
    "from imdb import IMDb \n",
    "from bs4 import BeautifulSoup\n",
    "import cPickle as pickle \n",
    "import io\n",
    "import time\n",
    "import requests"
   ]
  },
  {
   "cell_type": "code",
   "execution_count": 4,
   "metadata": {
    "collapsed": false
   },
   "outputs": [],
   "source": [
    "pages_by_year = {}\n",
    "\n",
    "pages = xrange(1,9)\n",
    "pagestext = {}\n",
    "for page in pages: \n",
    "    r = requests.get(\"http://www.boxofficemojo.com/yearly/chart/?page=%s&view=releasedate&view2=domestic&yr=2014&p=.htm\"%page)\n",
    "    pagestext[page] = r.text\n",
    "    time.sleep(1)"
   ]
  },
  {
   "cell_type": "code",
   "execution_count": 95,
   "metadata": {
    "collapsed": false,
    "scrolled": false
   },
   "outputs": [
    {
     "name": "stdout",
     "output_type": "stream",
     "text": [
      "702\n",
      "702\n"
     ]
    }
   ],
   "source": [
    "from collections import defaultdict \n",
    "movie_budget = defaultdict(list) \n",
    "for page in pages: \n",
    "    soup = BeautifulSoup(pagestext[page], \"html.parser\")\n",
    "    rows = soup.find_all(\"font\", attrs={'size':'2'})\n",
    "           \n",
    "    start = 10 \n",
    "    for i in range(start,len(rows)-2):\n",
    "        t = rows[i].get_text()\n",
    "        if unicode('Summary of') in t: \n",
    "            break\n",
    "        elif (i-start) % 9 == 0: \n",
    "            movie_budget['rank'].append(t)\n",
    "        elif (i-start) % 9 == 1: \n",
    "            movie_budget['title'].append(t)\n",
    "        elif (i-start) % 9 == 2: \n",
    "            movie_budget['studio'].append(t)\n",
    "        elif (i-start) % 9 == 3: \n",
    "            movie_budget['gross'].append(t)\n",
    "        elif (i-start) % 9 == 4: \n",
    "            movie_budget['gross theaters'].append(t)\n",
    "        elif (i-start) % 9 == 5: \n",
    "            movie_budget['opening'].append(t)\n",
    "        elif (i-start) % 9 == 6: \n",
    "            movie_budget['opening theaters'].append(t)\n",
    "        elif (i-start) % 9 == 7: \n",
    "            movie_budget['open'].append(t)\n",
    "        elif (i-start) % 9 == 8: \n",
    "            movie_budget['close'].append(t)\n",
    "\n",
    "print len(movie_budget['rank'])\n",
    "print movie_budget['rank'][-1]"
   ]
  },
  {
   "cell_type": "code",
   "execution_count": 93,
   "metadata": {
    "collapsed": false
   },
   "outputs": [
    {
     "name": "stdout",
     "output_type": "stream",
     "text": [
      "defaultdict(<type 'list'>, {'gross': [u'$350,126,372', u'$337,135,885', u'$333,176,600', u'$259,766,572', u'$257,760,692', u'$255,119,788', u'$245,439,076', u'$241,410,378', u'$233,921,534', u'$222,527,828', u'$208,545,589', u'$202,853,933', u'$200,676,069', u'$191,719,337', u'$191,204,754', u'$188,020,017', u'$177,002,924', u'$167,767,189', u'$150,947,895', u'$150,157,400', u'$134,938,200', u'$131,538,435', u'$128,002,372', u'$126,663,600', u'$124,872,350', u'$115,637,895', u'$113,746,621', u'$111,506,430', u'$106,580,051', u'$102,427,862', u'$101,530,738', u'$101,200,044', u'$100,206,256', u'$92,168,600', u'$91,443,253', u'$91,125,683', u'$86,208,010', u'$85,911,262', u'$85,817,906', u'$84,525,432', u'$84,273,813', u'$83,911,193', u'$83,350,911', u'$82,390,774', u'$78,031,620', u'$72,688,614', u'$71,962,800', u'$66,954,149', u'$65,182,182', u'$65,014,513', u'$64,251,541', u'$60,755,732', u'$59,700,064', u'$59,165,787', u'$59,100,318', u'$58,607,007', u'$56,280,355', u'$54,445,357', u'$54,240,821', u'$52,543,632', u'$52,076,908', u'$51,183,113', u'$50,856,010', u'$50,837,305', u'$50,577,412', u'$50,474,843', u'$50,151,543', u'$48,637,684', u'$47,602,194', u'$47,119,388', u'$47,047,013', u'$46,294,610', u'$45,090,374', u'$44,137,712', u'$43,577,636', u'$43,139,300', u'$43,037,835', u'$42,340,598', u'$42,024,533', u'$39,322,544', u'$38,934,842', u'$38,543,473', u'$37,880,356', u'$36,457,627', u'$35,893,537', u'$34,296,320', u'$33,680,992', u'$32,462,372', u'$32,381,217', u'$31,424,003', u'$30,703,100', u'$30,697,999', u'$30,577,122', u'$30,127,963', u'$28,842,237', u'$27,695,246', u'$26,766,213', u'$26,307,600', u'$26,068,955', u'$25,352,281'], 'opening': [u'$633,456', u'$121,897,634', u'$94,320,883', u'$95,023,721', u'$69,050,279', u'$54,724,334', u'$100,038,390', u'$69,431,298', u'$90,823,660', u'$56,215,889', u'$72,611,427', u'$91,608,337', u'$93,188,384', u'$57,071,445', u'$65,575,105', u'$47,510,360', u'$49,451,322', u'$37,513,109', u'$54,607,747', u'$49,033,915', u'$41,516,170', u'$39,327,869', u'$31,051,923', u'$43,899,340', u'$48,002,523', u'$30,621,445', u'$17,100,520', u'$32,207,057', u'$45,038,460', u'$32,512,804', u'$34,137,828', u'$43,720,472', u'$28,760,246', u'$28,875,635', u'$22,522,221', u'$479,352', u'$36,111,775', u'$15,861,939', u'$23,702,421', u'$21,577,049', u'$37,134,255', u'$24,763,752', u'$25,447,444', u'$17,813,722', u'$22,003,433', u'$29,800,263', u'$29,816,675', u'$18,360,230', u'$29,241,911', u'$24,115,934', u'$19,423,000', u'$9,217,013', u'$25,601,865', u'$17,509,407', u'$811,166', u'$21,681,430', u'$23,514,615', u'$15,457,418', u'$10,979,290', u'$24,250,283', u'$571,450', u'$17,005,126', u'$19,875,995', u'$17,275,239', u'$15,451,981', u'$15,679,190', u'$17,005,218', u'$25,649,011', u'$17,346,427', u'$13,116,226', u'$13,319,371', u'$14,284,031', u'$12,305,016', u'$109,878', u'$17,844,939', u'$16,797,385', u'$14,415,922', u'$424,397', u'$15,873,397', u'$15,879,645', u'$8,364,658', u'$14,608,152', u'$606,810', u'$10,515,659', u'$208,763', u'$11,558,149', u'$9,129,999', u'$18,343,611', u'$10,441,000', u'$204,961', u'$13,585,915', u'$12,242,218', u'$9,740,471', u'$8,381,509', u'$9,783,603', u'$12,005,402', u'$10,003,827', u'$12,758,780', u'$8,742,109', u'$387,618'], 'opening theaters': [u'4', u'4,151', u'4,080', u'3,938', u'3,775', u'3,875', u'4,233', u'3,948', u'3,996', u'3,761', u'3,967', u'4,324', u'3,952', u'3,306', u'3,845', u'3,561', u'4,253', u'3,014', u'3,936', u'3,279', u'2,663', u'3,948', u'2,440', u'3,173', u'3,173', u'3,131', u'3,785', u'3,934', u'3,470', u'3,604', u'3,236', u'3,567', u'3,490', u'3,090', u'2,417', u'4', u'3,154', u'3,116', u'3,173', u'3,465', u'3,185', u'3,205', u'3,764', u'3,094', u'3,083', u'3,595', u'2,805', u'3,088', u'2,225', u'3,503', u'3,427', u'780', u'3,260', u'3,826', u'4', u'3,372', u'2,885', u'3,375', u'2,023', u'2,175', u'19', u'3,194', u'2,858', u'3,464', u'3,387', u'2,907', u'3,071', u'2,253', u'3,434', u'3,003', u'2,905', u'3,555', u'3,003', u'4', u'3,115', u'3,158', u'2,589', u'4', u'3,656', u'3,221', u'3,230', u'3,062', u'21', u'3,019', u'5', u'2,868', u'2,478', u'2,867', u'2,766', u'6', u'2,468', u'2,872', u'3,049', u'2,673', u'2,781', u'2,648', u'2,936', u'2,712', u'2,809', u'5'], 'title': [u'American Sniper', u'The Hunger Games: Mockingjay - Part 1', u'Guardians of the Galaxy', u'Captain America: The Winter Soldier', u'The LEGO Movie', u'The Hobbit: The Battle of the Five Armies', u'Transformers: Age of Extinction', u'Maleficent', u'X-Men: Days of Future Past', u'Big Hero 6', u'Dawn of the Planet of the Apes', u'The Amazing Spider-Man 2', u'Godzilla (2014)', u'22 Jump Street', u'Teenage Mutant Ninja Turtles (2014)', u'Interstellar', u'How to Train Your Dragon 2', u'Gone Girl', u'Divergent', u'Neighbors', u'Ride Along', u'Rio 2', u'Into the Woods', u'Lucy', u'The Fault in our Stars', u'Unbroken', u'Night at the Museum: Secret of the Tomb', u'Mr. Peabody & Sherman', u'300: Rise of An Empire', u'The Maze Runner', u'The Equalizer', u'Noah', u'Edge of Tomorrow', u'Non-Stop', u'Heaven is for Real', u'The Imitation Game', u'Dumb and Dumber To', u'Annie (2014)', u'Fury (2014)', u'Tammy', u'Annabelle', u'The Other Woman (2014)', u'Penguins of Madagascar', u\"Let's Be Cops\", u'The Monuments Men', u'Hercules (2014)', u'The Purge: Anarchy', u'Alexander and the Terrible, Horrible, No Good, Very Bad Day', u'Think Like a Man Too', u'Exodus: Gods and Kings', u'The Nut Job', u\"God's Not Dead\", u'Son of God', u'Planes: Fire & Rescue', u'The Grand Budapest Hotel', u'RoboCop (2014)', u'Dracula Untold', u'Horrible Bosses 2', u'The Hundred-Foot Journey', u'No Good Deed (2014)', u'Selma', u'Muppets Most Wanted', u'Ouija', u'The Boxtrolls', u'Jack Ryan: Shadow Recruit', u'If I Stay', u'The Book of Life (2014)', u'About Last Night (2014)', u'Into The Storm', u'The Judge', u'Jersey Boys', u'Blended', u'The Giver', u'St. Vincent', u'Need for Speed', u'A Million Ways to Die in the West', u'John Wick', u'Birdman', u'Dolphin Tale 2', u'The Expendables 3', u'Earth to Echo', u'Sex Tape', u'Wild (2014)', u'Million Dollar Arm', u'The Theory of Everything', u'This is Where I Leave You', u'The Gambler', u'Paranormal Activity: The Marked Ones', u'Nightcrawler', u'Chef', u'Get On Up', u'3 Days to Kill', u'Deliver Us From Evil', u'When the Game Stands Tall', u'Draft Day', u'Oculus', u'The Best of Me', u'A Walk Among the Tombstones', u'That Awkward Moment', u'Boyhood'], 'rank': [u'1', u'2', u'3', u'4', u'5', u'6', u'7', u'8', u'9', u'10', u'11', u'12', u'13', u'14', u'15', u'16', u'17', u'18', u'19', u'20', u'21', u'22', u'23', u'24', u'25', u'26', u'27', u'28', u'29', u'30', u'31', u'32', u'33', u'34', u'35', u'36', u'37', u'38', u'39', u'40', u'41', u'42', u'43', u'44', u'45', u'46', u'47', u'48', u'49', u'50', u'51', u'52', u'53', u'54', u'55', u'56', u'57', u'58', u'59', u'60', u'61', u'62', u'63', u'64', u'65', u'66', u'67', u'68', u'69', u'70', u'71', u'72', u'73', u'74', u'75', u'76', u'77', u'78', u'79', u'80', u'81', u'82', u'83', u'84', u'85', u'86', u'87', u'88', u'89', u'90', u'91', u'92', u'93', u'94', u'95', u'96', u'97', u'98', u'99', u'100'], 'studio': [u'WB', u'LGF', u'BV', u'BV', u'WB', u'WB', u'Par.', u'BV', u'Fox', u'BV', u'Fox', u'Sony', u'WB', u'Sony', u'Par.', u'Par.', u'Fox', u'Fox', u'LG/S', u'Uni.', u'Uni.', u'Fox', u'BV', u'Uni.', u'Fox', u'Uni.', u'Fox', u'Fox', u'WB', u'Fox', u'Sony', u'Par.', u'WB', u'Uni.', u'TriS', u'Wein.', u'Uni.', u'Sony', u'Sony', u'WB', u'WB (NL)', u'Fox', u'Fox', u'Fox', u'Sony', u'Par.', u'Uni.', u'BV', u'SGem', u'Fox', u'ORF', u'Free', u'Fox', u'BV', u'FoxS', u'Sony', u'Uni.', u'WB', u'BV', u'SGem', u'Par.', u'BV', u'Uni.', u'Focus', u'Par.', u'WB', u'Fox', u'SGem', u'WB', u'WB', u'WB', u'WB', u'Wein.', u'Wein.', u'BV', u'Uni.', u'LG/S', u'FoxS', u'WB', u'LGF', u'Rela.', u'Sony', u'FoxS', u'BV', u'Focus', u'WB', u'Par.', u'Par.', u'ORF', u'ORF', u'Uni.', u'Rela.', u'SGem', u'TriS', u'LG/S', u'Rela.', u'Rela.', u'Uni.', u'Focus', u'IFC'], 'gross theaters': [u'3,885', u'4,151', u'4,088', u'3,938', u'3,890', u'3,875', u'4,233', u'3,948', u'4,001', u'3,773', u'3,969', u'4,324', u'3,952', u'3,426', u'3,980', u'3,561', u'4,268', u'3,284', u'3,936', u'3,311', u'2,867', u'3,975', u'2,833', u'3,202', u'3,340', u'3,301', u'3,914', u'3,951', u'3,490', u'3,638', u'3,236', u'3,571', u'3,505', u'3,183', u'3,048', u'2,402', u'3,188', u'3,197', u'3,313', u'3,465', u'3,215', u'3,306', u'3,775', u'3,140', u'3,083', u'3,595', u'2,856', u'3,117', u'2,225', u'3,503', u'3,472', u'1,860', u'3,271', u'3,839', u'1,467', u'3,372', u'2,900', u'3,400', u'2,167', u'2,175', u'2,235', u'3,194', u'2,899', u'3,464', u'3,387', u'3,157', u'3,113', u'2,253', u'3,434', u'3,003', u'2,905', u'3,555', u'3,003', u'2,552', u'3,115', u'3,160', u'2,589', u'1,213', u'3,656', u'3,221', u'3,230', u'3,062', u'1,361', u'3,019', u'1,220', u'2,868', u'2,494', u'2,883', u'2,766', u'1,298', u'2,469', u'2,872', u'3,049', u'2,766', u'2,781', u'2,648', u'2,936', u'2,714', u'2,809', u'775'], 'close': [u'6/25', u'3/19', u'1/22', u'8/21', u'9/4', u'4/2', u'10/9', u'12/4', u'10/9', u'5/28', u'12/4', u'8/17', u'8/28', u'11/26', u'11/20', u'3/19', u'12/11', u'2/26', u'7/10', u'8/21', u'4/17', u'9/4', u'4/16', u'11/6', u'10/9', u'3/12', u'7/9', u'9/4', u'5/29', u'2/5', u'1/11', u'6/19', u'9/11', u'5/29', u'8/10', u'5/14', u'2/12', u'3/15', u'1/19', u'10/16', u'12/18', u'8/14', u'5/7', u'12/11', u'5/18', u'10/16', u'9/18', u'2/26', u'8/17', u'2/26', u'5/8', u'8/7', u'6/5', u'11/13', u'8/28', u'5/18', u'11/27', u'2/19', u'12/4', u'11/2', u'4/16', u'7/17', u'12/18', u'2/5', u'4/3', u'11/6', u'2/26', u'4/27', u'11/20', u'1/15', u'9/25', u'8/28', u'12/11', u'3/5', u'6/19', u'7/17', u'1/22', u'4/16', u'12/18', u'10/16', u'10/30', u'9/21', u'5/7', u'8/21', u'4/16', u'12/4', u'2/19', u'2/20', u'2/5', u'9/11', u'9/18', u'5/15', u'8/10', u'11/2', u'6/19', u'6/26', u'1/15', u'10/23', u'4/3', u'3/22'], 'open': [u'12/25', u'11/21', u'8/1', u'4/4', u'2/7', u'12/17', u'6/27', u'5/30', u'5/23', u'11/7', u'7/11', u'5/2', u'5/16', u'6/13', u'8/8', u'11/5', u'6/13', u'10/3', u'3/21', u'5/9', u'1/17', u'4/11', u'12/25', u'7/25', u'6/6', u'12/25', u'12/19', u'3/7', u'3/7', u'9/19', u'9/26', u'3/28', u'6/6', u'2/28', u'4/16', u'11/28', u'11/14', u'12/19', u'10/17', u'7/2', u'10/3', u'4/25', u'11/26', u'8/13', u'2/7', u'7/25', u'7/18', u'10/10', u'6/20', u'12/12', u'1/17', u'3/21', u'2/28', u'7/18', u'3/7', u'2/12', u'10/10', u'11/26', u'8/8', u'9/12', u'12/25', u'3/21', u'10/24', u'9/26', u'1/17', u'8/22', u'10/17', u'2/14', u'8/8', u'10/10', u'6/20', u'5/23', u'8/15', u'10/10', u'3/14', u'5/30', u'10/24', u'10/17', u'9/12', u'8/15', u'7/2', u'7/18', u'12/3', u'5/16', u'11/7', u'9/19', u'12/25', u'1/3', u'10/31', u'5/9', u'8/1', u'2/21', u'7/2', u'8/22', u'4/11', u'4/11', u'10/17', u'9/19', u'1/31', u'7/11']})\n"
     ]
    }
   ],
   "source": [
    "print movie_budget"
   ]
  },
  {
   "cell_type": "code",
   "execution_count": null,
   "metadata": {
    "collapsed": true
   },
   "outputs": [],
   "source": []
  }
 ],
 "metadata": {
  "kernelspec": {
   "display_name": "Python 2",
   "language": "python",
   "name": "python2"
  },
  "language_info": {
   "codemirror_mode": {
    "name": "ipython",
    "version": 2
   },
   "file_extension": ".py",
   "mimetype": "text/x-python",
   "name": "python",
   "nbconvert_exporter": "python",
   "pygments_lexer": "ipython2",
   "version": "2.7.10"
  }
 },
 "nbformat": 4,
 "nbformat_minor": 0
}
