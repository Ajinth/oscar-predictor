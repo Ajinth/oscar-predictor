{
 "cells": [
  {
   "cell_type": "code",
   "execution_count": 92,
   "metadata": {
    "collapsed": true
   },
   "outputs": [],
   "source": [
    "from bs4 import BeautifulSoup\n",
    "from pyquery import PyQuery as pq\n",
    "from collections import defaultdict \n",
    "import time\n",
    "import requests"
   ]
  },
  {
   "cell_type": "markdown",
   "metadata": {},
   "source": [
    "### Scrape the movie gross Information from boxofficemojo.com "
   ]
  },
  {
   "cell_type": "code",
   "execution_count": 93,
   "metadata": {
    "collapsed": false
   },
   "outputs": [],
   "source": [
    "pages = xrange(1,9)\n",
    "pagestext = {}\n",
    "for page in pages: \n",
    "    r = requests.get(\"http://www.boxofficemojo.com/yearly/chart/?page=%s&view=releasedate&view2=domestic&yr=2014&p=.htm\"%page)\n",
    "    pagestext[page] = r.text\n",
    "    time.sleep(1)"
   ]
  },
  {
   "cell_type": "code",
   "execution_count": 94,
   "metadata": {
    "collapsed": false,
    "scrolled": false
   },
   "outputs": [],
   "source": [
    "movie_budget = defaultdict(list) \n",
    "year = 2014\n",
    "for page in pages: \n",
    "    soup = BeautifulSoup(pagestext[page], \"html.parser\")\n",
    "    rows = soup.find_all(\"font\", attrs={'size':'2'})\n",
    "           \n",
    "    start = 10 \n",
    "    for i in range(start,len(rows)-2):\n",
    "        t = rows[i].get_text()\n",
    "        if unicode('Summary of') in t: \n",
    "            break\n",
    "        elif (i-start) % 9 == 0: \n",
    "            movie_budget['rank'].append(t)\n",
    "        elif (i-start) % 9 == 1: \n",
    "            r = '('+str(year)+')'\n",
    "            if unicode(r) in t: \n",
    "                j = t.index(unicode(r))\n",
    "                movie_budget['title'].append(t[:j])\n",
    "            else: \n",
    "                movie_budget['title'].append(t)\n",
    "        elif (i-start) % 9 == 2: \n",
    "            movie_budget['studio'].append(t)\n",
    "        elif (i-start) % 9 == 3: \n",
    "            movie_budget['gross'].append(t)\n",
    "        elif (i-start) % 9 == 4: \n",
    "            movie_budget['gross theaters'].append(t)\n",
    "        elif (i-start) % 9 == 5: \n",
    "            movie_budget['opening'].append(t)\n",
    "        elif (i-start) % 9 == 6: \n",
    "            movie_budget['opening theaters'].append(t)\n",
    "        elif (i-start) % 9 == 7: \n",
    "            movie_budget['open'].append(t)\n",
    "        elif (i-start) % 9 == 8: \n",
    "            movie_budget['close'].append(t)\n",
    "            \n",
    "movie_budget['year'] = [year for i in range(len(movie_budget['title']))]"
   ]
  },
  {
   "cell_type": "markdown",
   "metadata": {},
   "source": [
    "###Scrape movie budget information from the-numbers.com "
   ]
  },
  {
   "cell_type": "code",
   "execution_count": 59,
   "metadata": {
    "collapsed": false
   },
   "outputs": [],
   "source": [
    "r_numbers = requests.get(\"http://www.the-numbers.com/movie/budgets/all\")\n",
    "rn_text = r_numbers.text "
   ]
  },
  {
   "cell_type": "code",
   "execution_count": 60,
   "metadata": {
    "collapsed": false
   },
   "outputs": [],
   "source": [
    "d_=pq(rn_text)\n",
    "d_tables=pq(d_('table'))\n",
    "rows = pq(d_tables[0])('tr')"
   ]
  },
  {
   "cell_type": "code",
   "execution_count": 89,
   "metadata": {
    "collapsed": false
   },
   "outputs": [],
   "source": [
    "budget = defaultdict(list)\n",
    "for j in range(1,len(rows)):\n",
    "    dat = pq(rows[j])('td')\n",
    "    for i in range(len(dat)): \n",
    "        if i % 6 == 1:\n",
    "            budget['year'].append(int(pq(dat[i])('a').text().split('/')[-1]))\n",
    "        elif i % 6 == 2:\n",
    "            budget['title'].append(pq(dat[i])('a').text())\n",
    "        elif i % 6 == 3: \n",
    "            budget['budget'].append(pq(dat[i]).text())"
   ]
  }
 ],
 "metadata": {
  "kernelspec": {
   "display_name": "Python 2",
   "language": "python",
   "name": "python2"
  },
  "language_info": {
   "codemirror_mode": {
    "name": "ipython",
    "version": 2
   },
   "file_extension": ".py",
   "mimetype": "text/x-python",
   "name": "python",
   "nbconvert_exporter": "python",
   "pygments_lexer": "ipython2",
   "version": "2.7.10"
  }
 },
 "nbformat": 4,
 "nbformat_minor": 0
}
