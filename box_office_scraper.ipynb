{
 "cells": [
  {
   "cell_type": "code",
   "execution_count": 114,
   "metadata": {
    "collapsed": false
   },
   "outputs": [],
   "source": [
    "from bs4 import BeautifulSoup\n",
    "from pyquery import PyQuery as pq\n",
    "from collections import defaultdict \n",
    "from imdb import IMDb\n",
    "import time\n",
    "import requests"
   ]
  },
  {
   "cell_type": "markdown",
   "metadata": {},
   "source": [
    "### Scrape the movie gross Information from boxofficemojo.com "
   ]
  },
  {
   "cell_type": "code",
   "execution_count": 99,
   "metadata": {
    "collapsed": false
   },
   "outputs": [],
   "source": [
    "years = xrange(2009,2015)\n",
    "pages = xrange(1,9)\n",
    "year_pagetxt = {}\n",
    "for year in years: \n",
    "    pagestext = {}\n",
    "    for page in pages: \n",
    "        r = requests.get(\"http://www.boxofficemojo.com/yearly/chart/?page=%s&view=releasedate&view2=domestic&yr=%s&p=.htm\"%(page, year))\n",
    "        pagestext[page] = r.text\n",
    "        time.sleep(1)\n",
    "    year_pagetxt[year] = pagestext"
   ]
  },
  {
   "cell_type": "code",
   "execution_count": 103,
   "metadata": {
    "collapsed": false,
    "scrolled": false
   },
   "outputs": [],
   "source": [
    "movie_budget = defaultdict(list) \n",
    "for year in years: \n",
    "    for page in pages: \n",
    "        soup = BeautifulSoup(year_pagetxt[year][page], \"html.parser\")\n",
    "        rows = soup.find_all(\"font\", attrs={'size':'2'})\n",
    "           \n",
    "        start = 10 \n",
    "        for i in range(start,len(rows)-2):\n",
    "            t = rows[i].get_text()\n",
    "            if unicode('Summary of') in t: \n",
    "                break\n",
    "            elif (i-start) % 9 == 0: \n",
    "                movie_budget['rank'].append(t)\n",
    "            elif (i-start) % 9 == 1: \n",
    "                movie_budget['year'].append(year)\n",
    "                r = '('+str(year)+')'\n",
    "                if unicode(r) in t: \n",
    "                    j = t.index(unicode(r))\n",
    "                    movie_budget['title'].append(t[:j])\n",
    "                else: \n",
    "                    movie_budget['title'].append(t)\n",
    "            elif (i-start) % 9 == 2: \n",
    "                movie_budget['studio'].append(t)\n",
    "            elif (i-start) % 9 == 3: \n",
    "                movie_budget['gross'].append(t)\n",
    "            elif (i-start) % 9 == 4: \n",
    "                movie_budget['gross theaters'].append(t)\n",
    "            elif (i-start) % 9 == 5: \n",
    "                movie_budget['opening'].append(t)\n",
    "            elif (i-start) % 9 == 6: \n",
    "                movie_budget['opening theaters'].append(t)\n",
    "            elif (i-start) % 9 == 7: \n",
    "                movie_budget['open'].append(t)\n",
    "            elif (i-start) % 9 == 8: \n",
    "                movie_budget['close'].append(t)"
   ]
  },
  {
   "cell_type": "markdown",
   "metadata": {},
   "source": [
    "###Scrape movie budget information from the-numbers.com "
   ]
  },
  {
   "cell_type": "code",
   "execution_count": 59,
   "metadata": {
    "collapsed": false
   },
   "outputs": [],
   "source": [
    "r_numbers = requests.get(\"http://www.the-numbers.com/movie/budgets/all\")\n",
    "\n",
    "d_=pq(r_numbers.text)\n",
    "d_tables=pq(d_('table'))\n",
    "rows = pq(d_tables[0])('tr')"
   ]
  },
  {
   "cell_type": "code",
   "execution_count": 60,
   "metadata": {
    "collapsed": false
   },
   "outputs": [],
   "source": [
    "budget = defaultdict(list)\n",
    "for j in range(1,len(rows)):\n",
    "    dat = pq(rows[j])('td')\n",
    "    for i in range(len(dat)): \n",
    "        if i % 6 == 1:\n",
    "            budget['year'].append(int(pq(dat[i])('a').text().split('/')[-1]))\n",
    "        elif i % 6 == 2:\n",
    "            budget['title'].append(pq(dat[i])('a').text())\n",
    "        elif i % 6 == 3: \n",
    "            budget['budget'].append(pq(dat[i]).text())"
   ]
  },
  {
   "cell_type": "markdown",
   "metadata": {
    "collapsed": false
   },
   "source": [
    "### Search_movies might return many movies related to our search. This finds the appropriate movie."
   ]
  },
  {
   "cell_type": "code",
   "execution_count": 121,
   "metadata": {
    "collapsed": true
   },
   "outputs": [],
   "source": [
    "def find_movie(title, year,  mlist):\n",
    "    # find movies that came out in the same year                                                                                                                                    \n",
    "    year_list = []\n",
    "    for movie in mlist:\n",
    "        try:\n",
    "            if movie.data['year'] == int(year):\n",
    "                year_list.append(movie)\n",
    "        except:\n",
    "            continue\n",
    "    # if the years do not match, there is no match                                                                                                                                  \n",
    "    if len(year_list) < 1:\n",
    "        return None\n",
    "    else:\n",
    "        # process the title                                                                                                                                                         \n",
    "        sorted_title = \"\".join(sorted(title)).replace(\" \", \"\")\n",
    "        len_sorted_title = len(sorted_title)\n",
    "        # check whether movies that came out in the same year                                                                                                                       \n",
    "        # have the same letters                                                                                                                                                     \n",
    "        counts = [0]*len(year_list)\n",
    "        for j in range(len(year_list)):\n",
    "            mtitle = year_list[j]['title']\n",
    "            sorted_mtitle = \"\".join(sorted(mtitle)).replace(\" \", \"\")\n",
    "            if len_sorted_title == len(sorted_mtitle):\n",
    "                # if the title cannot be converted to a string                                                                                                                      \n",
    "                # it is not the correct title                                                                                                                                       \n",
    "                try:\n",
    "                    sorted_mtitle = str(sorted_mtitle)\n",
    "                except:\n",
    "                    continue\n",
    "                for i in range(len_sorted_title):\n",
    "                    if sorted_title[i] == sorted_mtitle[i]:\n",
    "                        counts[j] += 1\n",
    "            else:\n",
    "                continue\n",
    "        k = counts.index(max(counts))\n",
    "        if len(year_list) >= 1:\n",
    "            return year_list[k]\n",
    "        else:\n",
    "            return None"
   ]
  },
  {
   "cell_type": "markdown",
   "metadata": {},
   "source": [
    "### Combine movie ids, budget info, and gross info into one dict"
   ]
  },
  {
   "cell_type": "code",
   "execution_count": null,
   "metadata": {
    "collapsed": false
   },
   "outputs": [],
   "source": [
    "ia = IMDb(accessSystem='http')\n",
    "\n",
    "#The next process actually attempts to match the movies in the Box Office dataframe to the \n",
    "BOmissingmovies = list() # To hold anything we don't find\n",
    "BOdict = {} # This will actually contain the movies and information about them.\n",
    "\n",
    "movienumber = len(movie_budget['gross'])\n",
    "\n",
    "for i in range(0,movienumber):\n",
    "    movieobj = None\n",
    "    # Need to process the row-level information out of BOdf in order to get the movie objects\n",
    "    movieobj = ia.search_movie(movie_budget['title'][i])\n",
    "    \n",
    "    #Handling cases where we haven't found the movie or have multiples\n",
    "    if movieobj is None or len(movieobj)>1:\n",
    "        movieobj = find_movie(movie_budget['title'][i], movie_budget['year'][i], ia.search_movie(movie_budget['title'][i])) # find the movie\n",
    "\n",
    "    if movieobj is not None and not (type(movieobj) == list and len(movieobj) == 0):\n",
    "        ## Get movie id ##\n",
    "        if type(movieobj) == list: \n",
    "            movieobj = movieobj[0]\n",
    "        ia.update(movieobj)    \n",
    "        movid = movieobj.movieID\n",
    "        ## Populate dictionary, main key is movie id ##\n",
    "        BOdict[movid] = {}\n",
    "        # \"title\": title of movie\n",
    "        BOdict[movid]['title'] = movie_budget['title'][i]\n",
    "        BOdict[movid]['gross'] = movie_budget['gross'][i]\n",
    "        BOdict[movid]['opening'] = movie_budget['opening'][i]\n",
    "        BOdict[movid]['rank'] = movie_budget['rank'][i]\n",
    "        BOdict[movid]['studio'] = movie_budget['studio'][i] \n",
    "        BOdict[movid]['open'] = movie_budget['open'][i]\n",
    "        BOdict[movid]['close'] = movie_budget['close'][i]\n",
    "        BOdict[movid]['opening theaters'] = movie_budget['opening theaters'][i]\n",
    "        try:\n",
    "            BOdict[movid]['rating'] = movieobj['rating']\n",
    "        except: \n",
    "            BOdict[movid]['rating'] = []\n",
    "        try:\n",
    "            BOdict[movid]['mpaa'] = movieobj['mpaa']\n",
    "        except: \n",
    "            BOdict[movid]['mpaa'] = []\n",
    "        try:\n",
    "            BOdict[movid]['director'] = movieobj['director']\n",
    "        except: \n",
    "            BOdict[movid]['director'] = []\n",
    "        try:\n",
    "            BOdict[movid]['cast'] = movieobj['cast']\n",
    "        except:\n",
    "            BOdict[movid]['cast'] = []\n",
    "        #BOdict[movid]['']\n",
    "        # make each award individual key and the value to indicate whether movie won/nominated or not\n",
    "        # Loop through awards list and indicate if movie was nominated or won\n",
    "    else:\n",
    "        BOmissingmovies.append((i, movie_budget['title'][i], movie_budget['year'][i]))\n",
    "        "
   ]
  },
  {
   "cell_type": "code",
   "execution_count": null,
   "metadata": {
    "collapsed": true
   },
   "outputs": [],
   "source": []
  }
 ],
 "metadata": {
  "kernelspec": {
   "display_name": "Python 2",
   "language": "python",
   "name": "python2"
  },
  "language_info": {
   "codemirror_mode": {
    "name": "ipython",
    "version": 2
   },
   "file_extension": ".py",
   "mimetype": "text/x-python",
   "name": "python",
   "nbconvert_exporter": "python",
   "pygments_lexer": "ipython2",
   "version": "2.7.10"
  }
 },
 "nbformat": 4,
 "nbformat_minor": 0
}
