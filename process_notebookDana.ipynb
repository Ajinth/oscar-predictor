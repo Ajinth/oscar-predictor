{
 "cells": [
  {
   "cell_type": "code",
   "execution_count": null,
   "metadata": {
    "collapsed": true
   },
   "outputs": [],
   "source": [
    "from imdb import IMDb\n",
    "%matplotlib inline\n",
    "import numpy as np\n",
    "import scipy as sp\n",
    "import matplotlib as mpl\n",
    "import matplotlib.cm as cm\n",
    "import matplotlib.pyplot as plt\n",
    "import pandas as pd\n",
    "import time\n",
    "import cPickle as pickle\n",
    "ia = IMDb(accessSystem='http')\n",
    "from collections import defaultdict \n",
    "import io\n",
    "from datetime import datetime\n",
    "import time\n",
    "from sklearn.linear_model import LogisticRegression, ElasticNet\n",
    "import sklearn.svm\n",
    "import math\n",
    "pd.set_option('display.width', 500)\n",
    "pd.set_option('display.max_columns', 100)\n",
    "pd.set_option('display.notebook_repr_html', True)\n",
    "import seaborn as sns\n",
    "sns.set_style(\"whitegrid\")\n",
    "sns.set_context(\"poster\")"
   ]
  },
  {
   "cell_type": "code",
   "execution_count": null,
   "metadata": {
    "collapsed": false
   },
   "outputs": [],
   "source": [
    "# Load AAdictfinal (dict of Oscar nominated movies)\n",
    "AAdictfinal = pickle.load(open('AAdictfinal.p','rb'))\n",
    "# Convert AAdictfinal to AAdf, pandas\n",
    "AAdf = pd.DataFrame.from_dict(AAdictfinal).transpose()"
   ]
  },
  {
   "cell_type": "code",
   "execution_count": null,
   "metadata": {
    "collapsed": false
   },
   "outputs": [],
   "source": [
    "# Make a copy of AAdf into dftouse so we can delete unneeded columns for the first part of the analysis\n",
    "dftouse = AAdf.copy()\n",
    "cols_to_delete = [ u'Won Best Actor',\n",
    " u'Won Best Actress',\n",
    " u'Won Best Animated Feature Film',\n",
    " u'Won Best Art Direction',\n",
    " u'Won Best Cinematography',\n",
    " u'Won Best Costume Design',\n",
    " u'Won Best Director',\n",
    " u'Won Best Documentary, Feature',\n",
    " u'Won Best Documentary, Short Subject',\n",
    " u'Won Best Film Editing',\n",
    " u'Won Best Foreign Language Film',\n",
    " u'Won Best Makeup',\n",
    " u'Won Best Music, Adaptation / Original Song Score',\n",
    " u'Won Best Music, Dramatic Score',\n",
    " u'Won Best Music, Musical or Comedy Score',\n",
    " u'Won Best Music, Original Score',\n",
    " u'Won Best Music, Song',\n",
    " u'Won Best Picture',\n",
    " u'Won Best Short Film, Animated',\n",
    " u'Won Best Short Film, Live Action',\n",
    " u'Won Best Sound',\n",
    " u'Won Best Sound Editing',\n",
    " u'Won Best Sound Effects Editing',\n",
    " u'Won Best Sound Mixing',\n",
    " u'Won Best Supporting Actor',\n",
    " u'Won Best Supporting Actress',\n",
    " u'Won Best Visual Effects',\n",
    " u'Won Best Writing, Adapted Screenplay',\n",
    " u'Won Best Writing, Original Screenplay',\n",
    " u'Won Special Achievement Award',\n",
    " u'mpaa',\n",
    " u'title',\n",
    " u'movieid',\n",
    " u'cast',\n",
    " u'director',\n",
    " u'genres',\n",
    " u'countrylist',\n",
    " u'keywords',\n",
    " u'releasedate',\n",
    " u'country',\n",
    " u'won',\n",
    " u'nominations']\n",
    "for col in cols_to_delete:\n",
    "    del dftouse[col]"
   ]
  },
  {
   "cell_type": "code",
   "execution_count": null,
   "metadata": {
    "collapsed": false
   },
   "outputs": [],
   "source": [
    "# Creat a list of indicator variables\n",
    "\n",
    "NONINDICATORS = ['month','mpaaint','numnominations','quarter','runtime','year']\n",
    "INDICATORS = set(list(dftouse.columns)) - set(NONINDICATORS)\n",
    "INDICATORS.remove(u'winner')\n",
    "#INDICATORS = [u'Action', u'Adventure',u'Nominated Best Actor']"
   ]
  },
  {
   "cell_type": "code",
   "execution_count": null,
   "metadata": {
    "collapsed": false
   },
   "outputs": [],
   "source": [
    "for indicatorcol in INDICATORS:\n",
    "    # Check if not boolean\n",
    "    if len(set(dftouse[indicatorcol])) > 2:\n",
    "        dftouse[indicatorcol] = dftouse[indicatorcol].apply(lambda x: (type(x)==unicode or type(x)==str)*1)"
   ]
  },
  {
   "cell_type": "code",
   "execution_count": null,
   "metadata": {
    "collapsed": false
   },
   "outputs": [],
   "source": [
    "# Code Credit:  HW #3\n",
    "dfgb=dftouse.groupby('winner')\n",
    "fig, axes = plt.subplots(nrows=2, ncols=3, figsize=(16, 8), \n",
    "                         tight_layout=True)\n",
    "for ax, p in zip(axes.ravel(), NONINDICATORS):\n",
    "    for k, v in dfgb[p]:\n",
    "        if k == 0:\n",
    "            label = \"Loser\"\n",
    "        else:\n",
    "            label = \"Winner\" \n",
    "        sns.kdeplot(v, ax=ax, label = label, shade = True)\n",
    "        ax.set_title(p)"
   ]
  },
  {
   "cell_type": "code",
   "execution_count": null,
   "metadata": {
    "collapsed": false
   },
   "outputs": [],
   "source": [
    "# Code Credit:  HW #3\n",
    "fig, axes = plt.subplots(nrows=22, ncols=4, figsize=(30,150), \n",
    "                         tight_layout=True)\n",
    "for ax, p in zip(axes.ravel(), INDICATORS):\n",
    "    for k, v in dfgb[p]:\n",
    "        if k == 0:\n",
    "            label = \"Loser\"\n",
    "        else:\n",
    "            label = \"Winner\" \n",
    "        v.hist(ax=ax, alpha=0.4, label=label, range = [0,1])\n",
    "        ax.set_title(p)\n",
    "        ax.legend()"
   ]
  },
  {
   "cell_type": "code",
   "execution_count": null,
   "metadata": {
    "collapsed": true
   },
   "outputs": [],
   "source": [
    "# 1) Total number of movies nominated / won in a given year\n",
    "# 2) Bar chart showing keywords by winner/losers\n",
    "# 3) Bar chart showing genres\n",
    "# 4) Mpaa by winner/loser\n",
    "# 5) Standardize those variables"
   ]
  },
  {
   "cell_type": "code",
   "execution_count": null,
   "metadata": {
    "collapsed": false
   },
   "outputs": [],
   "source": [
    "%%time\n",
    "\n",
    "# Get list of unique countries, genres, keywords\n",
    "# Will be used to create barcharts\n",
    "countries_dict = {}\n",
    "genreslist = set()\n",
    "keywords_dict = {}\n",
    "for _,movie in AAdf.iterrows():\n",
    "    if type(movie['countrylist']) == list:\n",
    "        for country in movie['countrylist']:\n",
    "            if country in countries_dict.keys():\n",
    "                countries_dict[str(country)] += 1\n",
    "            else:\n",
    "                countries_dict[str(country)] = 1\n",
    "    for genre in movie['genres']:\n",
    "        genreslist.add(genre)\n",
    "    if type(movie.keywords) == list:\n",
    "        for keyword in movie.keywords:\n",
    "            if keyword in keywords_dict.keys():\n",
    "                keywords_dict[keyword] += 1\n",
    "            else:\n",
    "                keywords_dict[keyword] = 1\n",
    "# shorten countries and keywords dictionary to only most common keywords to reduce dimensionality\n",
    "numother = 0\n",
    "for country in countries_dict.keys():\n",
    "    if countries_dict[country] <= 10:\n",
    "        numother = numother + countries_dict[country]\n",
    "        del countries_dict[country]\n",
    "countries_dict['OtherCountry'] = numother\n",
    "for keyword in keywords_dict.keys():\n",
    "    if keywords_dict[keyword] <= 200:\n",
    "        del keywords_dict[keyword]\n",
    "        \n",
    "countrieslist = set(countries_dict.keys())\n",
    "genreslist = set(genreslist)\n",
    "keywordslis = set(keywords_dict.keys())"
   ]
  },
  {
   "cell_type": "code",
   "execution_count": 176,
   "metadata": {
    "collapsed": false
   },
   "outputs": [],
   "source": [
    "countries_dict_winner = {}\n",
    "countries_dict_loser = {}\n",
    "for country in countries_dict.keys():\n",
    "    countries_dict_loser[country] = sum(dftouse[dftouse['winner']==0][country])\n",
    "    countries_dict_winner[country] = sum(dftouse[dftouse['winner']==1][country])"
   ]
  },
  {
   "cell_type": "code",
   "execution_count": null,
   "metadata": {
    "collapsed": true
   },
   "outputs": [],
   "source": [
    "genreslist.plot(kind=\"bar\", title=\"Genres\" );\n",
    "pl.xlabel('Genres')\n",
    "pl.ylabel('Percentage')"
   ]
  },
  {
   "cell_type": "code",
   "execution_count": null,
   "metadata": {
    "collapsed": true
   },
   "outputs": [],
   "source": [
    "genreslist.plot(kind=\"bar\", title=\"Keywords\" );\n",
    "pl.xlabel('Keywords')\n",
    "pl.ylabel('Percentage')"
   ]
  },
  {
   "cell_type": "code",
   "execution_count": 194,
   "metadata": {
    "collapsed": false
   },
   "outputs": [
    {
     "data": {
      "image/png": "[encoded data removed]",
      "text/plain": [
       "<matplotlib.figure.Figure at 0x11877cf90>"
      ]
     },
     "metadata": {},
     "output_type": "display_data"
    }
   ],
   "source": [
    "countryloc1 = [1,2,3,4,5,6]\n",
    "countryloc2 = [1.35,2.35,3.35,4.35,5.35,6.35]\n",
    "fig, ax = plt.subplots()\n",
    "rects1 = ax.bar(countryloc1,countries_dict_loser.values(), 0.35, color='g', label='loser', alpha = .5)\n",
    "rects1 = ax.bar(countryloc2,countries_dict_winner.values(), 0.35, color='b', label='winner', alpha = .4)\n",
    "ax.set_xticklabels(countries_dict_loser.keys())\n",
    "ax.legend()\n",
    "plt.show()"
   ]
  },
  {
   "cell_type": "code",
   "execution_count": null,
   "metadata": {
    "collapsed": true
   },
   "outputs": [],
   "source": []
  },
  {
   "cell_type": "code",
   "execution_count": 162,
   "metadata": {
    "collapsed": false
   },
   "outputs": [
    {
     "data": {
      "text/plain": [
       "{u'Action',\n",
       " u'Adventure',\n",
       " u'Animation',\n",
       " u'Biography',\n",
       " u'Comedy',\n",
       " u'Crime',\n",
       " u'Documentary',\n",
       " u'Drama',\n",
       " u'Family',\n",
       " u'Fantasy',\n",
       " u'History',\n",
       " u'Horror',\n",
       " u'Music',\n",
       " u'Musical',\n",
       " u'Mystery',\n",
       " u'News',\n",
       " u'Romance',\n",
       " u'Sci-Fi',\n",
       " u'Short',\n",
       " u'Sport',\n",
       " u'Talk-Show',\n",
       " u'Thriller',\n",
       " u'War',\n",
       " u'Western'}"
      ]
     },
     "execution_count": 162,
     "metadata": {},
     "output_type": "execute_result"
    }
   ],
   "source": [
    "genreslist"
   ]
  }
 ],
 "metadata": {
  "kernelspec": {
   "display_name": "Python 2",
   "language": "python",
   "name": "python2"
  },
  "language_info": {
   "codemirror_mode": {
    "name": "ipython",
    "version": 2
   },
   "file_extension": ".py",
   "mimetype": "text/x-python",
   "name": "python",
   "nbconvert_exporter": "python",
   "pygments_lexer": "ipython2",
   "version": "2.7.10"
  }
 },
 "nbformat": 4,
 "nbformat_minor": 0
}
